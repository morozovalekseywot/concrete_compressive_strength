{
 "cells": [
  {
   "cell_type": "code",
   "execution_count": 23,
   "metadata": {
    "collapsed": true,
    "notebookRunGroups": {
     "groupValue": "1"
    },
    "pycharm": {
     "is_executing": true
    }
   },
   "outputs": [],
   "source": [
    "import tensorflow as tf\n",
    "from tensorflow import keras\n",
    "import numpy as np\n",
    "import matplotlib.pyplot as plt\n",
    "import pandas as pd\n",
    "import seaborn as sns\n",
    "from scipy import stats\n",
    "import sklearn\n",
    "import os\n",
    "from sklearn.model_selection import train_test_split\n",
    "import ncg_optimizer\n",
    "import torch\n",
    "from torch.utils.data import Dataset, DataLoader\n",
    "\n",
    "plt.ioff()\n",
    "random_state = 12\n",
    "keras.utils.set_random_seed(random_state)\n",
    "torch.manual_seed(random_state)\n",
    "b_code = '\\u03B2'"
   ]
  },
  {
   "attachments": {},
   "cell_type": "markdown",
   "metadata": {},
   "source": [
    "|Имя|Тип данных|Измерение|Описание|\n",
    "|--------|-----|-------|---------|\n",
    "|Цемент|float|кг в м3 смеси|Вход|\n",
    "|Доменный шлак|float|кг в м3 смеси|Вход|\n",
    "|Летучая зола|float|кг в м3 смеси|Вход|\n",
    "|Вода|float|кг в м3 смеси|Вход|\n",
    "|Супер пластификатор|float|кг в м3 смеси|Вход|\n",
    "|Крупный заполнитель|float|кг в м3 смеси|Вход|\n",
    "|Мелкий заполнитель|float|кг в м3 смеси|Вход|\n",
    "|Возраст|int|День (1~365)|Вход|\n",
    "|Прочность на сжатие|float|Мпа|Выход|"
   ]
  },
  {
   "attachments": {},
   "cell_type": "markdown",
   "metadata": {},
   "source": [
    "Количество – 1030. Пропусков нет. Задача регрессии"
   ]
  },
  {
   "attachments": {},
   "cell_type": "markdown",
   "metadata": {},
   "source": [
    "# Чтение\n"
   ]
  },
  {
   "cell_type": "code",
   "execution_count": 24,
   "metadata": {
    "collapsed": false,
    "notebookRunGroups": {
     "groupValue": "1"
    },
    "pycharm": {
     "is_executing": true
    }
   },
   "outputs": [
    {
     "data": {
      "text/html": [
       "<div>\n",
       "<style scoped>\n",
       "    .dataframe tbody tr th:only-of-type {\n",
       "        vertical-align: middle;\n",
       "    }\n",
       "\n",
       "    .dataframe tbody tr th {\n",
       "        vertical-align: top;\n",
       "    }\n",
       "\n",
       "    .dataframe thead th {\n",
       "        text-align: right;\n",
       "    }\n",
       "</style>\n",
       "<table border=\"1\" class=\"dataframe\">\n",
       "  <thead>\n",
       "    <tr style=\"text-align: right;\">\n",
       "      <th></th>\n",
       "      <th>Cement (component 1)(kg in a m^3 mixture)</th>\n",
       "      <th>Blast Furnace Slag (component 2)(kg in a m^3 mixture)</th>\n",
       "      <th>Fly Ash (component 3)(kg in a m^3 mixture)</th>\n",
       "      <th>Water  (component 4)(kg in a m^3 mixture)</th>\n",
       "      <th>Superplasticizer (component 5)(kg in a m^3 mixture)</th>\n",
       "      <th>Coarse Aggregate  (component 6)(kg in a m^3 mixture)</th>\n",
       "      <th>Fine Aggregate (component 7)(kg in a m^3 mixture)</th>\n",
       "      <th>Age (day)</th>\n",
       "      <th>Concrete compressive strength(MPa, megapascals)</th>\n",
       "    </tr>\n",
       "  </thead>\n",
       "  <tbody>\n",
       "    <tr>\n",
       "      <th>0</th>\n",
       "      <td>540.0</td>\n",
       "      <td>0.0</td>\n",
       "      <td>0.0</td>\n",
       "      <td>162.0</td>\n",
       "      <td>2.5</td>\n",
       "      <td>1040.0</td>\n",
       "      <td>676.0</td>\n",
       "      <td>28</td>\n",
       "      <td>79.986111</td>\n",
       "    </tr>\n",
       "    <tr>\n",
       "      <th>1</th>\n",
       "      <td>540.0</td>\n",
       "      <td>0.0</td>\n",
       "      <td>0.0</td>\n",
       "      <td>162.0</td>\n",
       "      <td>2.5</td>\n",
       "      <td>1055.0</td>\n",
       "      <td>676.0</td>\n",
       "      <td>28</td>\n",
       "      <td>61.887366</td>\n",
       "    </tr>\n",
       "    <tr>\n",
       "      <th>2</th>\n",
       "      <td>332.5</td>\n",
       "      <td>142.5</td>\n",
       "      <td>0.0</td>\n",
       "      <td>228.0</td>\n",
       "      <td>0.0</td>\n",
       "      <td>932.0</td>\n",
       "      <td>594.0</td>\n",
       "      <td>270</td>\n",
       "      <td>40.269535</td>\n",
       "    </tr>\n",
       "    <tr>\n",
       "      <th>3</th>\n",
       "      <td>332.5</td>\n",
       "      <td>142.5</td>\n",
       "      <td>0.0</td>\n",
       "      <td>228.0</td>\n",
       "      <td>0.0</td>\n",
       "      <td>932.0</td>\n",
       "      <td>594.0</td>\n",
       "      <td>365</td>\n",
       "      <td>41.052780</td>\n",
       "    </tr>\n",
       "    <tr>\n",
       "      <th>4</th>\n",
       "      <td>198.6</td>\n",
       "      <td>132.4</td>\n",
       "      <td>0.0</td>\n",
       "      <td>192.0</td>\n",
       "      <td>0.0</td>\n",
       "      <td>978.4</td>\n",
       "      <td>825.5</td>\n",
       "      <td>360</td>\n",
       "      <td>44.296075</td>\n",
       "    </tr>\n",
       "  </tbody>\n",
       "</table>\n",
       "</div>"
      ],
      "text/plain": [
       "   Cement (component 1)(kg in a m^3 mixture)   \n",
       "0                                      540.0  \\\n",
       "1                                      540.0   \n",
       "2                                      332.5   \n",
       "3                                      332.5   \n",
       "4                                      198.6   \n",
       "\n",
       "   Blast Furnace Slag (component 2)(kg in a m^3 mixture)   \n",
       "0                                                0.0      \\\n",
       "1                                                0.0       \n",
       "2                                              142.5       \n",
       "3                                              142.5       \n",
       "4                                              132.4       \n",
       "\n",
       "   Fly Ash (component 3)(kg in a m^3 mixture)   \n",
       "0                                         0.0  \\\n",
       "1                                         0.0   \n",
       "2                                         0.0   \n",
       "3                                         0.0   \n",
       "4                                         0.0   \n",
       "\n",
       "   Water  (component 4)(kg in a m^3 mixture)   \n",
       "0                                      162.0  \\\n",
       "1                                      162.0   \n",
       "2                                      228.0   \n",
       "3                                      228.0   \n",
       "4                                      192.0   \n",
       "\n",
       "   Superplasticizer (component 5)(kg in a m^3 mixture)   \n",
       "0                                                2.5    \\\n",
       "1                                                2.5     \n",
       "2                                                0.0     \n",
       "3                                                0.0     \n",
       "4                                                0.0     \n",
       "\n",
       "   Coarse Aggregate  (component 6)(kg in a m^3 mixture)   \n",
       "0                                             1040.0     \\\n",
       "1                                             1055.0      \n",
       "2                                              932.0      \n",
       "3                                              932.0      \n",
       "4                                              978.4      \n",
       "\n",
       "   Fine Aggregate (component 7)(kg in a m^3 mixture)  Age (day)   \n",
       "0                                              676.0         28  \\\n",
       "1                                              676.0         28   \n",
       "2                                              594.0        270   \n",
       "3                                              594.0        365   \n",
       "4                                              825.5        360   \n",
       "\n",
       "   Concrete compressive strength(MPa, megapascals)   \n",
       "0                                         79.986111  \n",
       "1                                         61.887366  \n",
       "2                                         40.269535  \n",
       "3                                         41.052780  \n",
       "4                                         44.296075  "
      ]
     },
     "execution_count": 24,
     "metadata": {},
     "output_type": "execute_result"
    }
   ],
   "source": [
    "df = pd.read_excel('Concrete_data.xls')\n",
    "df.head()"
   ]
  },
  {
   "cell_type": "code",
   "execution_count": 25,
   "metadata": {
    "notebookRunGroups": {
     "groupValue": "1"
    }
   },
   "outputs": [
    {
     "data": {
      "text/html": [
       "<div>\n",
       "<style scoped>\n",
       "    .dataframe tbody tr th:only-of-type {\n",
       "        vertical-align: middle;\n",
       "    }\n",
       "\n",
       "    .dataframe tbody tr th {\n",
       "        vertical-align: top;\n",
       "    }\n",
       "\n",
       "    .dataframe thead th {\n",
       "        text-align: right;\n",
       "    }\n",
       "</style>\n",
       "<table border=\"1\" class=\"dataframe\">\n",
       "  <thead>\n",
       "    <tr style=\"text-align: right;\">\n",
       "      <th></th>\n",
       "      <th>cement</th>\n",
       "      <th>slag</th>\n",
       "      <th>ash</th>\n",
       "      <th>water</th>\n",
       "      <th>plastic</th>\n",
       "      <th>coarse</th>\n",
       "      <th>fine</th>\n",
       "      <th>age</th>\n",
       "      <th>strength</th>\n",
       "    </tr>\n",
       "  </thead>\n",
       "  <tbody>\n",
       "    <tr>\n",
       "      <th>0</th>\n",
       "      <td>540.0</td>\n",
       "      <td>0.0</td>\n",
       "      <td>0.0</td>\n",
       "      <td>162.0</td>\n",
       "      <td>2.5</td>\n",
       "      <td>1040.0</td>\n",
       "      <td>676.0</td>\n",
       "      <td>28</td>\n",
       "      <td>79.986111</td>\n",
       "    </tr>\n",
       "    <tr>\n",
       "      <th>1</th>\n",
       "      <td>540.0</td>\n",
       "      <td>0.0</td>\n",
       "      <td>0.0</td>\n",
       "      <td>162.0</td>\n",
       "      <td>2.5</td>\n",
       "      <td>1055.0</td>\n",
       "      <td>676.0</td>\n",
       "      <td>28</td>\n",
       "      <td>61.887366</td>\n",
       "    </tr>\n",
       "    <tr>\n",
       "      <th>2</th>\n",
       "      <td>332.5</td>\n",
       "      <td>142.5</td>\n",
       "      <td>0.0</td>\n",
       "      <td>228.0</td>\n",
       "      <td>0.0</td>\n",
       "      <td>932.0</td>\n",
       "      <td>594.0</td>\n",
       "      <td>270</td>\n",
       "      <td>40.269535</td>\n",
       "    </tr>\n",
       "    <tr>\n",
       "      <th>3</th>\n",
       "      <td>332.5</td>\n",
       "      <td>142.5</td>\n",
       "      <td>0.0</td>\n",
       "      <td>228.0</td>\n",
       "      <td>0.0</td>\n",
       "      <td>932.0</td>\n",
       "      <td>594.0</td>\n",
       "      <td>365</td>\n",
       "      <td>41.052780</td>\n",
       "    </tr>\n",
       "    <tr>\n",
       "      <th>4</th>\n",
       "      <td>198.6</td>\n",
       "      <td>132.4</td>\n",
       "      <td>0.0</td>\n",
       "      <td>192.0</td>\n",
       "      <td>0.0</td>\n",
       "      <td>978.4</td>\n",
       "      <td>825.5</td>\n",
       "      <td>360</td>\n",
       "      <td>44.296075</td>\n",
       "    </tr>\n",
       "  </tbody>\n",
       "</table>\n",
       "</div>"
      ],
      "text/plain": [
       "   cement   slag  ash  water  plastic  coarse   fine  age   strength\n",
       "0   540.0    0.0  0.0  162.0      2.5  1040.0  676.0   28  79.986111\n",
       "1   540.0    0.0  0.0  162.0      2.5  1055.0  676.0   28  61.887366\n",
       "2   332.5  142.5  0.0  228.0      0.0   932.0  594.0  270  40.269535\n",
       "3   332.5  142.5  0.0  228.0      0.0   932.0  594.0  365  41.052780\n",
       "4   198.6  132.4  0.0  192.0      0.0   978.4  825.5  360  44.296075"
      ]
     },
     "execution_count": 25,
     "metadata": {},
     "output_type": "execute_result"
    }
   ],
   "source": [
    "df = df.set_axis(['cement', 'slag', 'ash', 'water', 'plastic', 'coarse', 'fine', 'age', 'strength'], axis=1)\n",
    "df.head()"
   ]
  },
  {
   "cell_type": "code",
   "execution_count": 26,
   "metadata": {
    "notebookRunGroups": {
     "groupValue": "1"
    }
   },
   "outputs": [],
   "source": [
    "def clear_plt():\n",
    "    allfignums = plt.get_fignums()\n",
    "    for i in allfignums:\n",
    "        fig = plt.figure(i)\n",
    "        fig.clear()\n",
    "        plt.close(fig)"
   ]
  },
  {
   "cell_type": "code",
   "execution_count": 27,
   "metadata": {
    "notebookRunGroups": {
     "groupValue": "1"
    }
   },
   "outputs": [],
   "source": [
    "for i in range(1, 17):\n",
    "    os.makedirs('4.' + str(i), exist_ok=True)\n",
    "    os.makedirs('4.' + str(i) + '/models/', exist_ok=True)\n",
    "os.makedirs('1', exist_ok=True)\n",
    "os.makedirs('1/boxplots', exist_ok=True)\n",
    "os.makedirs('2', exist_ok=True)\n",
    "os.makedirs('2/boxplots_clean', exist_ok=True)"
   ]
  },
  {
   "attachments": {},
   "cell_type": "markdown",
   "metadata": {},
   "source": [
    "# 1. Визуализация\n"
   ]
  },
  {
   "cell_type": "code",
   "execution_count": 7,
   "metadata": {},
   "outputs": [
    {
     "data": {
      "image/png": "[encoded data removed]",
      "text/plain": [
       "<Figure size 2000x1000 with 9 Axes>"
      ]
     },
     "metadata": {},
     "output_type": "display_data"
    }
   ],
   "source": [
    "df.hist(figsize=(20, 10), bins=20)\n",
    "plt.savefig('1/hist.png')"
   ]
  },
  {
   "cell_type": "code",
   "execution_count": 8,
   "metadata": {},
   "outputs": [
    {
     "name": "stdout",
     "output_type": "stream",
     "text": [
      "1030\n"
     ]
    },
    {
     "data": {
      "text/plain": [
       "cement      0\n",
       "slag        0\n",
       "ash         0\n",
       "water       0\n",
       "plastic     0\n",
       "coarse      0\n",
       "fine        0\n",
       "age         0\n",
       "strength    0\n",
       "dtype: int64"
      ]
     },
     "execution_count": 8,
     "metadata": {},
     "output_type": "execute_result"
    }
   ],
   "source": [
    "print(len(df))\n",
    "df.isnull().sum()"
   ]
  },
  {
   "cell_type": "code",
   "execution_count": 64,
   "metadata": {},
   "outputs": [],
   "source": [
    "for c_name in df.columns:\n",
    "    fig, ax = plt.subplots()\n",
    "    sns.boxplot(data=df[c_name], ax=ax)\n",
    "    ax.set_title(c_name)\n",
    "    plt.savefig(f'1/boxplots/{c_name}_boxplot.png')\n",
    "clear_plt()"
   ]
  },
  {
   "cell_type": "code",
   "execution_count": 65,
   "metadata": {},
   "outputs": [],
   "source": [
    "fig, ax = plt.subplots()\n",
    "fig.set_figwidth(10)\n",
    "fig.set_figheight(8)\n",
    "sns.heatmap(df.corr(), cmap='coolwarm', ax=ax, annot=True)\n",
    "fig.savefig('1/heatmap.png')\n",
    "clear_plt()"
   ]
  },
  {
   "cell_type": "code",
   "execution_count": 9,
   "metadata": {},
   "outputs": [],
   "source": [
    "sns.pairplot(df)\n",
    "plt.savefig('1/pairplot.png')\n",
    "clear_plt()"
   ]
  },
  {
   "attachments": {},
   "cell_type": "markdown",
   "metadata": {},
   "source": [
    "# 2. Предобработка данных\n"
   ]
  },
  {
   "attachments": {},
   "cell_type": "markdown",
   "metadata": {},
   "source": [
    "### 2.1 Очистка данных\n"
   ]
  },
  {
   "attachments": {},
   "cell_type": "markdown",
   "metadata": {},
   "source": [
    "удаление дубликатов\n"
   ]
  },
  {
   "cell_type": "code",
   "execution_count": 28,
   "metadata": {
    "notebookRunGroups": {
     "groupValue": "1"
    }
   },
   "outputs": [
    {
     "name": "stdout",
     "output_type": "stream",
     "text": [
      "25\n",
      "0\n"
     ]
    }
   ],
   "source": [
    "print(df.duplicated().sum())\n",
    "df.drop_duplicates(inplace=True)\n",
    "print(df.duplicated().sum())"
   ]
  },
  {
   "attachments": {},
   "cell_type": "markdown",
   "metadata": {},
   "source": [
    "удаление выбросов\n"
   ]
  },
  {
   "cell_type": "code",
   "execution_count": 29,
   "metadata": {
    "notebookRunGroups": {
     "groupValue": "1"
    }
   },
   "outputs": [
    {
     "name": "stdout",
     "output_type": "stream",
     "text": [
      "1005\n",
      "49\n"
     ]
    }
   ],
   "source": [
    "print(len(df))\n",
    "z = np.abs(stats.zscore(df))\n",
    "df_clean = df[(z < 3).all(axis=1)]\n",
    "print(len(df) - len(df_clean))"
   ]
  },
  {
   "cell_type": "code",
   "execution_count": 30,
   "metadata": {
    "notebookRunGroups": {
     "groupValue": "1"
    }
   },
   "outputs": [],
   "source": [
    "df = df_clean"
   ]
  },
  {
   "attachments": {},
   "cell_type": "markdown",
   "metadata": {},
   "source": [
    "### 2.2 Преобразование данных\n"
   ]
  },
  {
   "cell_type": "code",
   "execution_count": 31,
   "metadata": {
    "notebookRunGroups": {
     "groupValue": "1"
    }
   },
   "outputs": [],
   "source": [
    "from sklearn.preprocessing import StandardScaler\n",
    "\n",
    "scaler = StandardScaler()\n",
    "df[df.columns] = scaler.fit_transform(df[df.columns])"
   ]
  },
  {
   "cell_type": "code",
   "execution_count": 72,
   "metadata": {},
   "outputs": [],
   "source": [
    "for c_name in df.columns:\n",
    "    fig, ax = plt.subplots()\n",
    "    sns.boxplot(data=df[c_name], ax=ax)\n",
    "    ax.set_title(c_name)\n",
    "    plt.savefig(f'2/boxplots_clean/{c_name}_boxplot.png')\n",
    "clear_plt()"
   ]
  },
  {
   "cell_type": "code",
   "execution_count": 77,
   "metadata": {},
   "outputs": [
    {
     "data": {
      "image/png": "[encoded data removed]",
      "text/plain": [
       "<Figure size 1000x800 with 2 Axes>"
      ]
     },
     "metadata": {},
     "output_type": "display_data"
    }
   ],
   "source": [
    "fig, ax = plt.subplots()\n",
    "fig.set_figwidth(10)\n",
    "fig.set_figheight(8)\n",
    "sns.heatmap(df.corr(), cmap='coolwarm', ax=ax, annot=True)\n",
    "fig.savefig('2/heatmap_clean.png')\n",
    "plt.show('2/heatmap_clean.png')"
   ]
  },
  {
   "cell_type": "code",
   "execution_count": null,
   "metadata": {},
   "outputs": [],
   "source": [
    "sns.pairplot(df)\n",
    "plt.savefig('2/pairplot.png')\n",
    "clear_plt()"
   ]
  },
  {
   "attachments": {},
   "cell_type": "markdown",
   "metadata": {},
   "source": [
    "# 3. Формирование признаков\n"
   ]
  },
  {
   "cell_type": "code",
   "execution_count": 32,
   "metadata": {
    "notebookRunGroups": {
     "groupValue": "1"
    }
   },
   "outputs": [],
   "source": [
    "df = df.reindex(np.random.permutation(df.index))\n",
    "df.reset_index(drop=True, inplace=True)\n",
    "new_df = df.drop(columns=['ash'])"
   ]
  },
  {
   "attachments": {},
   "cell_type": "markdown",
   "metadata": {},
   "source": [
    "# 4. Построение и исследование нейросетевых моделей"
   ]
  },
  {
   "cell_type": "code",
   "execution_count": 33,
   "metadata": {
    "notebookRunGroups": {
     "groupValue": "1"
    }
   },
   "outputs": [
    {
     "name": "stdout",
     "output_type": "stream",
     "text": [
      "573 286 97\n"
     ]
    }
   ],
   "source": [
    "n = len(new_df)\n",
    "n_train = int(n * 0.6)\n",
    "n_validate = int(n * 0.3)\n",
    "n_test = n - n_train - n_validate\n",
    "print(n_train, n_validate, n_test)"
   ]
  },
  {
   "cell_type": "code",
   "execution_count": 34,
   "metadata": {
    "notebookRunGroups": {
     "groupValue": "1"
    }
   },
   "outputs": [],
   "source": [
    "train, validate, test = np.array_split(new_df, (n_train, n_validate + n_train))"
   ]
  },
  {
   "cell_type": "code",
   "execution_count": 35,
   "metadata": {
    "notebookRunGroups": {
     "groupValue": "1"
    }
   },
   "outputs": [],
   "source": [
    "y_train = train['strength']\n",
    "x_train = train.drop(columns=['strength'])\n",
    "\n",
    "y_validate = validate['strength']\n",
    "x_validate = validate.drop(columns=['strength'])\n",
    "\n",
    "y_test = test['strength']\n",
    "x_test = test.drop(columns=['strength'])\n",
    "\n",
    "input_shape = len(x_train.columns)"
   ]
  },
  {
   "cell_type": "code",
   "execution_count": 36,
   "metadata": {
    "notebookRunGroups": {
     "groupValue": "1"
    }
   },
   "outputs": [],
   "source": [
    "class WeightsAndLossHistory(keras.callbacks.Callback):\n",
    "    def __init__(self, x_test, y_test):\n",
    "        super().__init__()\n",
    "        self.weights = None\n",
    "        self.test_losses = None\n",
    "        self.x_test = x_test\n",
    "        self.y_test = y_test\n",
    "\n",
    "    def on_train_begin(self, logs=None):\n",
    "        self.weights = [list(), list(), list(), list(), list(), list()]\n",
    "        self.test_losses = list()\n",
    "\n",
    "    def on_epoch_begin(self, epoch, logs=None):\n",
    "        if logs is None:\n",
    "            logs = {}\n",
    "        weights = self.model.layers[0].get_weights()\n",
    "        for i in range(3):\n",
    "            self.weights[i].append(weights[0][0][i])\n",
    "        weights = self.model.layers[1].get_weights()\n",
    "        for i in range(3):\n",
    "            self.weights[i + 3].append(weights[0][0][i])\n",
    "        self.test_losses.append(\n",
    "            tf.losses.mse(self.y_test, self.model.predict(self.x_test, verbose=0).reshape(-1)).numpy())"
   ]
  },
  {
   "cell_type": "code",
   "execution_count": 37,
   "metadata": {
    "notebookRunGroups": {
     "groupValue": "1"
    }
   },
   "outputs": [],
   "source": [
    "def plot_losses(history, test_losses: np.array, filename: str, title: str = None):\n",
    "    fig = plt.figure(figsize=(12, 6))\n",
    "    if title is not None:\n",
    "        plt.title(title)\n",
    "    plt.plot(history.history['loss'], label='train mse')\n",
    "    plt.plot(history.history['val_loss'], label='validate mse')\n",
    "    plt.plot(test_losses, label='test mse')\n",
    "    plt.ylabel('error')\n",
    "    plt.xlabel('epoch')\n",
    "    plt.legend()\n",
    "    plt.grid()\n",
    "    plt.savefig(filename)\n",
    "\n",
    "    fig.clear()\n",
    "    plt.close(fig)\n",
    "\n",
    "\n",
    "def plot_weights(weights: np.array, filename: str, title: str = None):\n",
    "    fig = plt.figure(figsize=(12, 6))\n",
    "    for i in range(len(weights)):\n",
    "        plt.plot(weights[i], label=f'$w_{i}$')\n",
    "    if title is not None:\n",
    "        plt.title(title)\n",
    "    plt.ylabel('weight')\n",
    "    plt.xlabel('epoch')\n",
    "    plt.legend()\n",
    "    plt.grid()\n",
    "    plt.savefig(filename)\n",
    "\n",
    "    fig.clear()\n",
    "    plt.close(fig)"
   ]
  },
  {
   "attachments": {},
   "cell_type": "markdown",
   "metadata": {},
   "source": [
    "### Тестовые запуски"
   ]
  },
  {
   "attachments": {},
   "cell_type": "markdown",
   "metadata": {},
   "source": [
    "#### Keras"
   ]
  },
  {
   "cell_type": "code",
   "execution_count": 38,
   "metadata": {
    "notebookRunGroups": {
     "groupValue": "1"
    }
   },
   "outputs": [],
   "source": [
    "class KerasTrainer:\n",
    "    def __init__(self, x_train, y_train, x_validate, y_validate, x_test, y_test):\n",
    "        self.x_train = x_train\n",
    "        self.y_train = y_train\n",
    "\n",
    "        self.x_val = x_validate\n",
    "        self.y_val = y_validate\n",
    "\n",
    "        self.x_test = x_test\n",
    "        self.y_test = y_test\n",
    "\n",
    "    def fit(self, model, callbacks: list, path: str, epochs=500, batch_size=100) -> tuple[np.array, np.array, dict]:\n",
    "        history = model.fit(self.x_train, self.y_train, epochs=epochs, batch_size=batch_size,\n",
    "                            validation_data=(self.x_val, self.y_val),\n",
    "                            use_multiprocessing=True, workers=-1,\n",
    "                            callbacks=callbacks, verbose=0)\n",
    "\n",
    "        model.load_weights(path)\n",
    "        train_pred = model.predict(self.x_train, verbose=0).reshape(-1)\n",
    "        test_pred = model.predict(self.x_test, verbose=0).reshape(-1)\n",
    "\n",
    "        return train_pred, test_pred, history\n",
    "    \n",
    "keras_trainer = KerasTrainer(x_train, y_train, x_validate, y_validate, x_test, y_test)"
   ]
  },
  {
   "cell_type": "code",
   "execution_count": 84,
   "metadata": {},
   "outputs": [],
   "source": [
    "model = keras.Sequential(\n",
    "    [keras.layers.Dense(20, input_dim=input_shape, use_bias=True, activation=tf.nn.sigmoid),\n",
    "     keras.layers.Dense(20, use_bias=True, activation=tf.nn.sigmoid),\n",
    "     keras.layers.Dropout(0.3),\n",
    "     keras.layers.Dense(1, use_bias=True)])\n",
    "model.compile(optimizer=tf.optimizers.Adam(0.01), loss=tf.losses.mse)\n",
    "path = '4.1/models/keras_model.h5'\n",
    "bad_callback = WeightsAndLossHistory(x_test, y_test)\n",
    "callbacks = [keras.callbacks.EarlyStopping(patience=30, monitor='val_loss'),\n",
    "            keras.callbacks.ModelCheckpoint(path, monitor='val_loss', save_best_only=True, mode='min', save_weights_only=True),\n",
    "            bad_callback]"
   ]
  },
  {
   "cell_type": "code",
   "execution_count": 85,
   "metadata": {},
   "outputs": [],
   "source": [
    "train_pred, test_pred, history = keras_trainer.fit(model, callbacks, path, epochs=300)"
   ]
  },
  {
   "cell_type": "code",
   "execution_count": 86,
   "metadata": {},
   "outputs": [
    {
     "name": "stdout",
     "output_type": "stream",
     "text": [
      "Loss on train: 0.11780796945095062\n",
      "Loss on test: 0.14229422807693481\n"
     ]
    }
   ],
   "source": [
    "plot_losses(history, bad_callback.test_losses, '4.1/keras_fit_model.png')\n",
    "print(f'Loss on train: {tf.losses.mse(y_train, train_pred)}')\n",
    "print(f'Loss on test: {tf.losses.mse(y_test, test_pred)}')"
   ]
  },
  {
   "attachments": {},
   "cell_type": "markdown",
   "metadata": {},
   "source": [
    "#### Torch"
   ]
  },
  {
   "cell_type": "code",
   "execution_count": 39,
   "metadata": {
    "notebookRunGroups": {
     "groupValue": "1"
    }
   },
   "outputs": [],
   "source": [
    "# Dataset from DataFrame\n",
    "class TorchData(Dataset):\n",
    "    def __init__(self, x: pd.DataFrame, y: pd.DataFrame):\n",
    "        self.X = torch.tensor(x.values, dtype=torch.float32)\n",
    "        self.y = torch.tensor(y.values, dtype=torch.float32)\n",
    "\n",
    "    def __len__(self):\n",
    "        return self.X.shape[0]\n",
    "\n",
    "    def __getitem__(self, idx):\n",
    "        return self.X[idx], self.y[idx]\n",
    "\n",
    "    def get_x(self):\n",
    "        return self.X\n",
    "\n",
    "    def get_y(self):\n",
    "        return self.y\n",
    "\n",
    "\n",
    "class Net(torch.nn.Module):\n",
    "    def __init__(self, input_shape, n1=20, n2=20):\n",
    "        super(Net, self).__init__()\n",
    "        self.fc1 = torch.nn.Linear(input_shape, n1)\n",
    "        self.fc2 = torch.nn.Linear(n1, n2)\n",
    "        self.fc3 = torch.nn.Linear(n2, 1)\n",
    "\n",
    "        torch.nn.init.xavier_normal_(self.fc1.weight)\n",
    "        torch.nn.init.xavier_normal_(self.fc2.weight)\n",
    "        torch.nn.init.xavier_normal_(self.fc3.weight)\n",
    "\n",
    "    def forward(self, x):\n",
    "        x = torch.sigmoid(self.fc1(x))\n",
    "        x = torch.sigmoid(self.fc2(x))\n",
    "        x = self.fc3(x)\n",
    "        return x.view(-1)\n",
    "\n",
    "\n",
    "class TorchTrainer:\n",
    "    def __init__(self, net, loss_f, optimizer,\n",
    "                 epoch_amount=10, batch_size=50,\n",
    "                 early_stopping=50,\n",
    "                 verbose=1):\n",
    "\n",
    "        self.loss_function = loss_f()\n",
    "        self.epoch_amount = epoch_amount\n",
    "        self.batch_size = batch_size\n",
    "\n",
    "        self.early_stopping = early_stopping\n",
    "        self.optimizer = optimizer\n",
    "        self.scheduler = None\n",
    "\n",
    "        self.start_model = net\n",
    "        self.best_model = net\n",
    "\n",
    "        self.verbose = verbose\n",
    "\n",
    "        self.train_loss = []\n",
    "        self.val_loss = []\n",
    "\n",
    "    def evaluate(self, test: TorchData):\n",
    "        self.best_model.eval()\n",
    "        with torch.no_grad():\n",
    "            return self.loss_function(self.best_model(test.get_x()), test.get_y()).item()\n",
    "\n",
    "    def evaluate_all(self, train: TorchData, val: TorchData, test: TorchData):\n",
    "        self.best_model.eval()\n",
    "        with torch.no_grad():\n",
    "            train_loss = self.loss_function(self.best_model(train.get_x()), train.get_y()).item()\n",
    "            val_loss = self.loss_function(self.best_model(val.get_x()), val.get_y()).item()\n",
    "            test_loss = self.loss_function(self.best_model(test.get_x()), test.get_y()).item()\n",
    "            print(f'Loss on train: {train_loss:.3f}')\n",
    "            print(f'Loss on validate: {val_loss:.3f}')\n",
    "            print(f'Loss on test: {test_loss:.3f}')\n",
    "\n",
    "    def fit(self, train_data: Dataset, val_data: Dataset):\n",
    "        Net = self.start_model\n",
    "        # optimizer = self.optim([p for p in Net.parameters() if p.requires_grad], lr=self.learning_rate)\n",
    "\n",
    "        if self.scheduler is not None:\n",
    "            scheduler = self.scheduler(self.optimizer)\n",
    "\n",
    "        train = DataLoader(train_data, batch_size=self.batch_size, shuffle=True)\n",
    "        val = DataLoader(val_data, batch_size=self.batch_size, shuffle=False)\n",
    "\n",
    "        best_val_loss = float('inf')\n",
    "        best_ep = 0\n",
    "\n",
    "        for epoch in range(self.epoch_amount):\n",
    "            if self.verbose != 0:\n",
    "                print(f'Эпоха: {epoch}', end=' ')\n",
    "            Net.train()\n",
    "            mean_loss = 0\n",
    "\n",
    "            for batch_X, target in train:\n",
    "                self.optimizer.zero_grad()\n",
    "                predicted_values = Net(batch_X)\n",
    "                loss = self.loss_function(predicted_values, target)\n",
    "                loss.backward()\n",
    "                self.optimizer.step()\n",
    "\n",
    "                mean_loss += loss.item()\n",
    "\n",
    "            mean_loss /= len(train)\n",
    "            self.train_loss.append(mean_loss)\n",
    "\n",
    "            if self.verbose != 0:\n",
    "                print(f'Loss_train: {mean_loss}')\n",
    "\n",
    "            Net.eval()\n",
    "            mean_loss = 0\n",
    "\n",
    "            with torch.no_grad():\n",
    "                for batch_X, target in val:\n",
    "                    predicted_values = Net(batch_X)\n",
    "                    loss = self.loss_function(predicted_values, target)\n",
    "                    mean_loss += float(loss)\n",
    "\n",
    "            mean_loss /= len(val)\n",
    "            self.val_loss.append(mean_loss)\n",
    "            if self.verbose != 0:\n",
    "                print(f'Loss_val: {mean_loss}')\n",
    "\n",
    "            if mean_loss < best_val_loss:\n",
    "                self.best_model = Net\n",
    "                best_val_loss = mean_loss\n",
    "                best_ep = epoch\n",
    "            elif epoch - best_ep > self.early_stopping:\n",
    "                if self.verbose != 0:\n",
    "                    print(f'{self.early_stopping} без улучшений. Прекращаем обучение...')\n",
    "                break\n",
    "            if self.scheduler is not None:\n",
    "                scheduler.step()\n",
    "\n",
    "            if self.verbose != 0:\n",
    "                print()\n",
    "\n",
    "        self.best_model.eval()\n",
    "\n",
    "    def fit_clousure(self, train_data: Dataset, val_data: Dataset):\n",
    "        Net = self.start_model\n",
    "\n",
    "        if self.scheduler is not None:\n",
    "            scheduler = self.scheduler(self.optimizer)\n",
    "\n",
    "        train = DataLoader(train_data, batch_size=self.batch_size, shuffle=True)\n",
    "        val = DataLoader(val_data, batch_size=self.batch_size, shuffle=False)\n",
    "\n",
    "        best_val_loss = float('inf')\n",
    "        best_ep = 0\n",
    "\n",
    "        for epoch in range(self.epoch_amount):\n",
    "            if self.verbose != 0:\n",
    "                print(f'Эпоха: {epoch}')\n",
    "            Net.train()\n",
    "            mean_loss = 0\n",
    "\n",
    "            for x, target in train_data:\n",
    "                X_ = torch.autograd.Variable(x.float(), requires_grad=True)\n",
    "                y_ = torch.autograd.Variable(target.float())\n",
    "\n",
    "                # print(f'y = {y_}')\n",
    "                # print(f'pred = {Net(X_)[0]}')\n",
    "                def closure():\n",
    "                    self.optimizer.zero_grad()\n",
    "                    predicted_values = Net(X_)\n",
    "                    loss = self.loss_function(predicted_values.squeeze(), y_)\n",
    "                    if loss.requires_grad:\n",
    "                        loss.backward()\n",
    "                    return loss\n",
    "\n",
    "                self.optimizer.step(closure)\n",
    "\n",
    "                with torch.no_grad():\n",
    "                    predicted_values = Net(x)\n",
    "                    loss = self.loss_function(predicted_values.squeeze(), target)\n",
    "                    mean_loss += loss.item()\n",
    "\n",
    "            mean_loss /= len(train_data)\n",
    "            self.train_loss.append(mean_loss)\n",
    "\n",
    "            if self.verbose != 0:\n",
    "                print(f'Loss_train: {mean_loss}')\n",
    "\n",
    "            Net.eval()\n",
    "            mean_loss = 0\n",
    "\n",
    "            with torch.no_grad():\n",
    "                for batch_X, target in val:\n",
    "                    predicted_values = Net(batch_X)\n",
    "                    loss = self.loss_function(predicted_values, target)\n",
    "                    mean_loss += float(loss)\n",
    "\n",
    "            mean_loss /= len(val)\n",
    "            self.val_loss.append(mean_loss)\n",
    "            if self.verbose != 0:\n",
    "                print(f'Loss_val: {mean_loss}')\n",
    "\n",
    "            if mean_loss < best_val_loss:\n",
    "                self.best_model = Net\n",
    "                best_val_loss = mean_loss\n",
    "                best_ep = epoch\n",
    "            elif epoch - best_ep > self.early_stopping:\n",
    "                break\n",
    "            if self.scheduler is not None:\n",
    "                scheduler.step()\n",
    "\n",
    "            if self.verbose != 0:\n",
    "                print()\n",
    "\n",
    "        self.best_model.eval()\n",
    "\n",
    "    def fit_minimizer(self, train_data: Dataset, val_data: Dataset):\n",
    "        Net = self.start_model\n",
    "\n",
    "        if self.scheduler is not None:\n",
    "            scheduler = self.scheduler(self.optimizer)\n",
    "\n",
    "        train = DataLoader(train_data, batch_size=self.batch_size, shuffle=True)\n",
    "        val = DataLoader(val_data, batch_size=self.batch_size, shuffle=False)\n",
    "\n",
    "        best_val_loss = float('inf')\n",
    "        best_ep = 0\n",
    "\n",
    "        for epoch in range(self.epoch_amount):\n",
    "            if self.verbose != 0:\n",
    "                print(f'Эпоха: {epoch}')\n",
    "            Net.train()\n",
    "            mean_loss = 0\n",
    "\n",
    "            for x, target in train_data:\n",
    "                X_ = torch.autograd.Variable(x.float(), requires_grad=True)\n",
    "                y_ = torch.autograd.Variable(target.float())\n",
    "\n",
    "                def closure():\n",
    "                    self.optimizer.zero_grad()\n",
    "                    predicted_values = Net(X_)\n",
    "                    loss = self.loss_function(predicted_values.squeeze(), y_)\n",
    "                    return loss\n",
    "\n",
    "                self.optimizer.step(closure)\n",
    "\n",
    "                with torch.no_grad():\n",
    "                    predicted_values = Net(x)\n",
    "                    loss = self.loss_function(predicted_values.squeeze(), target)\n",
    "                    mean_loss += loss.item()\n",
    "\n",
    "            mean_loss /= len(train_data)\n",
    "            self.train_loss.append(mean_loss)\n",
    "\n",
    "            if self.verbose != 0:\n",
    "                print(f'Loss_train: {mean_loss}')\n",
    "\n",
    "            Net.eval()\n",
    "            mean_loss = 0\n",
    "\n",
    "            with torch.no_grad():\n",
    "                for batch_X, target in val:\n",
    "                    predicted_values = Net(batch_X)\n",
    "                    loss = self.loss_function(predicted_values, target)\n",
    "                    mean_loss += float(loss)\n",
    "\n",
    "            mean_loss /= len(val)\n",
    "            self.val_loss.append(mean_loss)\n",
    "            if self.verbose != 0:\n",
    "                print(f'Loss_val: {mean_loss}')\n",
    "\n",
    "            if mean_loss < best_val_loss:\n",
    "                self.best_model = Net\n",
    "                best_val_loss = mean_loss\n",
    "                best_ep = epoch\n",
    "            elif epoch - best_ep > self.early_stopping:\n",
    "                break\n",
    "            if self.scheduler is not None:\n",
    "                scheduler.step()\n",
    "\n",
    "            if self.verbose != 0:\n",
    "                print()\n",
    "\n",
    "        self.best_model.eval()\n",
    "\n",
    "    def plot_torch_losses(self, filename, title=None):\n",
    "        fig = plt.figure(figsize=(12, 6))\n",
    "        if title is not None:\n",
    "            plt.title(title)\n",
    "        plt.plot(self.train_loss, label='train mse')\n",
    "        plt.plot(self.val_loss, label='validate mse')\n",
    "        plt.ylabel('error')\n",
    "        plt.xlabel('epoch')\n",
    "        plt.legend()\n",
    "        plt.grid()\n",
    "        plt.savefig(filename)\n",
    "\n",
    "        fig.clear()\n",
    "        plt.close(fig)"
   ]
  },
  {
   "cell_type": "code",
   "execution_count": 40,
   "metadata": {
    "notebookRunGroups": {
     "groupValue": "1"
    }
   },
   "outputs": [],
   "source": [
    "torch_train = TorchData(x_train, y_train)\n",
    "torch_val = TorchData(x_validate, y_validate)\n",
    "torch_test = TorchData(x_test, y_test)"
   ]
  },
  {
   "cell_type": "code",
   "execution_count": null,
   "metadata": {},
   "outputs": [],
   "source": [
    "net = Net(len(x_train.columns))\n",
    "\n",
    "params = {\n",
    "    'net': net,\n",
    "    'epoch_amount': 3,\n",
    "    'early_stopping': 30,\n",
    "    'loss_f': torch.nn.MSELoss,\n",
    "    # 'optimizer': torch.optim.LBFGS(net.parameters(), lr=0.5, max_iter=4, line_search_fn='strong_wolfe'),\n",
    "    'optimizer': ncg_optimizer.BASIC(net.parameters(), method='FR', c1=1e-4,\n",
    "                                     c2=0.2, lr=10, rho=0.1, max_ls=500),\n",
    "    # 'optimizer': torch.optim.Adam(net.parameters(),lr=0.005),\n",
    "    'verbose': 1,\n",
    "}\n",
    "\n",
    "clf = TorchTrainer(**params)\n",
    "clf.fit_clousure(torch_train, torch_val)"
   ]
  },
  {
   "cell_type": "code",
   "execution_count": 49,
   "metadata": {},
   "outputs": [
    {
     "name": "stdout",
     "output_type": "stream",
     "text": [
      "Loss on train: 115.647\n",
      "Loss on validate: 174.824\n",
      "Loss on test: 157.084\n"
     ]
    }
   ],
   "source": [
    "clf.evaluate_all(torch_train, torch_val, torch_test)\n",
    "clf.plot_torch_losses('4.1/torch_fit_model.png')"
   ]
  },
  {
   "attachments": {},
   "cell_type": "markdown",
   "metadata": {},
   "source": [
    "### 4.2 Перебор learning rate"
   ]
  },
  {
   "cell_type": "code",
   "execution_count": 32,
   "metadata": {},
   "outputs": [
    {
     "name": "stdout",
     "output_type": "stream",
     "text": [
      "lr: 0.100\n",
      "Loss on train: 0.170\n",
      "Loss on test: 0.168\n",
      "lr: 0.050\n",
      "Loss on train: 0.190\n",
      "Loss on test: 0.182\n",
      "lr: 0.010\n",
      "Loss on train: 0.322\n",
      "Loss on test: 0.317\n",
      "lr: 0.005\n",
      "Loss on train: 0.450\n",
      "Loss on test: 0.448\n",
      "lr: 0.001\n",
      "Loss on train: 0.944\n",
      "Loss on test: 0.895\n"
     ]
    }
   ],
   "source": [
    "for lr in [0.1, 0.05, 0.01, 0.005, 0.001]:\n",
    "    path = f'4.2/models/GD_{lr}.h5'\n",
    "    model = keras.Sequential(\n",
    "        [keras.layers.Dense(20, input_dim=input_shape, use_bias=True, activation=tf.nn.sigmoid),\n",
    "         keras.layers.Dense(20, use_bias=True, activation=tf.nn.sigmoid),\n",
    "         keras.layers.Dropout(0.3),\n",
    "         keras.layers.Dense(1, use_bias=True)])\n",
    "    \n",
    "    def scheduler(epoch, lr_):\n",
    "        return lr\n",
    "    lr_scheduler = tf.keras.callbacks.LearningRateScheduler(scheduler)\n",
    "\n",
    "    model.compile(optimizer=tf.optimizers.Adagrad(lr), loss=tf.losses.mse)\n",
    "    bad_callback = WeightsAndLossHistory(x_test, y_test)\n",
    "    callbacks = [keras.callbacks.EarlyStopping(patience=30, monitor='val_loss'),\n",
    "                 keras.callbacks.ModelCheckpoint(path, monitor='val_loss', save_best_only=True, mode='min', save_weights_only=True),\n",
    "                 bad_callback, lr_scheduler]\n",
    "    \n",
    "    train_pred, test_pred, history = keras_trainer.fit(model, callbacks, path, epochs=300)\n",
    "\n",
    "    print(f'lr: {lr:.3f}')\n",
    "    print(f'Loss on train: {tf.losses.mse(y_train, train_pred):.3f}')\n",
    "    print(f'Loss on test: {tf.losses.mse(y_test, test_pred):.3f}')\n",
    "\n",
    "    plot_losses(history, bad_callback.test_losses, f'4.2/fit_model_{lr}.png', f'GD, lr = {lr}')\n",
    "clear_plt()"
   ]
  },
  {
   "cell_type": "code",
   "execution_count": 41,
   "metadata": {
    "notebookRunGroups": {
     "groupValue": "1"
    }
   },
   "outputs": [],
   "source": [
    "GD_lr = 0.1"
   ]
  },
  {
   "attachments": {},
   "cell_type": "markdown",
   "metadata": {},
   "source": [
    "### 4.3 Перебор момента для NAG и GDM\n"
   ]
  },
  {
   "attachments": {},
   "cell_type": "markdown",
   "metadata": {},
   "source": [
    "#### GDM:\n"
   ]
  },
  {
   "cell_type": "code",
   "execution_count": 88,
   "metadata": {},
   "outputs": [
    {
     "name": "stdout",
     "output_type": "stream",
     "text": [
      "mu: 0.000\n",
      "Loss on train: 0.191\n",
      "Loss on test: 0.187\n",
      "mu: 0.600\n",
      "Loss on train: 0.167\n",
      "Loss on test: 0.160\n",
      "mu: 0.800\n",
      "Loss on train: 0.151\n",
      "Loss on test: 0.166\n",
      "mu: 0.900\n",
      "Loss on train: 0.146\n",
      "Loss on test: 0.158\n",
      "mu: 0.950\n",
      "Loss on train: 0.103\n",
      "Loss on test: 0.164\n"
     ]
    }
   ],
   "source": [
    "for mu in [0, 0.6, 0.8, 0.9, 0.95]:\n",
    "    path = f'4.3/models/gdm_{mu}.h5'\n",
    "    model = keras.Sequential(\n",
    "        [keras.layers.Dense(20, input_dim=input_shape, use_bias=True, activation=tf.nn.sigmoid),\n",
    "         keras.layers.Dense(20, use_bias=True, activation=tf.nn.sigmoid),\n",
    "         keras.layers.Dropout(0.3),\n",
    "         keras.layers.Dense(1, use_bias=True)])\n",
    "    model.compile(optimizer=tf.optimizers.SGD(GD_lr, momentum=mu), loss=tf.losses.mse)\n",
    "    bad_callback = WeightsAndLossHistory(x_test, y_test)\n",
    "    callbacks = [keras.callbacks.EarlyStopping(patience=30, monitor='val_loss'),\n",
    "                 keras.callbacks.ModelCheckpoint(path, monitor='val_loss', save_best_only=True, mode='min', save_weights_only=True),\n",
    "                 bad_callback]\n",
    "\n",
    "    train_pred, test_pred, history = keras_trainer.fit(model, callbacks, path, epochs=300)\n",
    "    \n",
    "    print(f'mu: {mu:.3f}')\n",
    "    print(f'Loss on train: {tf.losses.mse(y_train, train_pred):.3f}')\n",
    "    print(f'Loss on test: {tf.losses.mse(y_test, test_pred):.3f}')\n",
    "\n",
    "    plot_losses(history, bad_callback.test_losses, f'4.3/fit_model_GDM_{mu}.png', f'GDM, mu = {mu}')\n",
    "clear_plt()"
   ]
  },
  {
   "cell_type": "code",
   "execution_count": 49,
   "metadata": {},
   "outputs": [
    {
     "name": "stdout",
     "output_type": "stream",
     "text": [
      "mu: 0.000\n",
      "Loss on train: 0.250\n",
      "Loss on validate: 0.251\n",
      "Loss on test: 0.235\n",
      "\n",
      "mu: 0.100\n",
      "Loss on train: 0.207\n",
      "Loss on validate: 0.219\n",
      "Loss on test: 0.209\n",
      "\n",
      "mu: 0.300\n",
      "Loss on train: 0.190\n",
      "Loss on validate: 0.195\n",
      "Loss on test: 0.176\n",
      "\n",
      "mu: 0.600\n",
      "Loss on train: 0.183\n",
      "Loss on validate: 0.189\n",
      "Loss on test: 0.168\n",
      "\n",
      "mu: 0.800\n",
      "Loss on train: 0.162\n",
      "Loss on validate: 0.174\n",
      "Loss on test: 0.165\n",
      "\n",
      "mu: 0.950\n",
      "Loss on train: 0.135\n",
      "Loss on validate: 0.181\n",
      "Loss on test: 0.184\n",
      "\n"
     ]
    }
   ],
   "source": [
    "for mu in [0, 0.6, 0.8, 0.9, 0.95]:\n",
    "    net = Net(len(x_train.columns))\n",
    "\n",
    "    params = {\n",
    "        'net': net,\n",
    "        'epoch_amount': 70,\n",
    "        'early_stopping': 20,\n",
    "        'loss_f': torch.nn.MSELoss,\n",
    "        'optimizer': torch.optim.SGD(net.parameters(), lr=GD_lr, momentum=mu),\n",
    "        'verbose': 0,\n",
    "    }\n",
    "\n",
    "    clf = TorchTrainer(**params)\n",
    "    clf.fit(torch_train, torch_val)\n",
    "    print(f'mu: {mu:.3f}')\n",
    "    clf.evaluate_all(torch_train, torch_val, torch_test)\n",
    "    print()\n",
    "    clf.plot_torch_losses(f'4.3/fit_model_GDM_{mu}.png', f'GDM, mu = {mu}')"
   ]
  },
  {
   "attachments": {},
   "cell_type": "markdown",
   "metadata": {},
   "source": [
    "#### NAG:\n"
   ]
  },
  {
   "cell_type": "code",
   "execution_count": 89,
   "metadata": {},
   "outputs": [
    {
     "name": "stdout",
     "output_type": "stream",
     "text": [
      "mu: 0.000\n",
      "Loss on train: 0.193\n",
      "Loss on test: 0.183\n",
      "mu: 0.600\n",
      "Loss on train: 0.168\n",
      "Loss on test: 0.162\n",
      "mu: 0.800\n",
      "Loss on train: 0.145\n",
      "Loss on test: 0.155\n",
      "mu: 0.900\n",
      "Loss on train: 0.149\n",
      "Loss on test: 0.154\n",
      "mu: 0.950\n",
      "Loss on train: 0.113\n",
      "Loss on test: 0.147\n"
     ]
    }
   ],
   "source": [
    "for mu in [0, 0.6, 0.8, 0.9, 0.95]:\n",
    "    path = f'4.3/models/nag_{mu}.h5'\n",
    "    model = keras.Sequential(\n",
    "        [keras.layers.Dense(20, input_dim=input_shape, use_bias=True, activation=tf.nn.sigmoid),\n",
    "         keras.layers.Dense(20, use_bias=True, activation=tf.nn.sigmoid),\n",
    "         keras.layers.Dropout(0.3),\n",
    "         keras.layers.Dense(1, use_bias=True)])\n",
    "    model.compile(optimizer=tf.optimizers.SGD(GD_lr, momentum=mu, nesterov=True), loss=tf.losses.mse)\n",
    "    bad_callback = WeightsAndLossHistory(x_test, y_test)\n",
    "    callbacks = [keras.callbacks.EarlyStopping(patience=30, monitor='val_loss'),\n",
    "                 keras.callbacks.ModelCheckpoint(path, monitor='val_loss', save_best_only=True, mode='min', save_weights_only=True),\n",
    "                 bad_callback]\n",
    "\n",
    "    train_pred, test_pred, history = keras_trainer.fit(model, callbacks, path, epochs=300)\n",
    "    \n",
    "    print(f'mu: {mu:.3f}')\n",
    "    print(f'Loss on train: {tf.losses.mse(y_train, train_pred):.3f}')\n",
    "    print(f'Loss on test: {tf.losses.mse(y_test, test_pred):.3f}')\n",
    "\n",
    "    plot_losses(history, bad_callback.test_losses, f'4.3/fit_model_NAG_{mu}.png', f'NAG, mu = {mu}')\n",
    "\n",
    "clear_plt()"
   ]
  },
  {
   "cell_type": "code",
   "execution_count": 53,
   "metadata": {},
   "outputs": [
    {
     "name": "stdout",
     "output_type": "stream",
     "text": [
      "mu: 0.100\n",
      "Loss on train: 0.241\n",
      "Loss on validate: 0.258\n",
      "Loss on test: 0.238\n",
      "\n",
      "mu: 0.600\n",
      "Loss on train: 0.166\n",
      "Loss on validate: 0.172\n",
      "Loss on test: 0.160\n",
      "\n",
      "mu: 0.800\n",
      "Loss on train: 0.175\n",
      "Loss on validate: 0.191\n",
      "Loss on test: 0.184\n",
      "\n",
      "mu: 0.900\n",
      "Loss on train: 0.124\n",
      "Loss on validate: 0.152\n",
      "Loss on test: 0.148\n",
      "\n",
      "mu: 0.950\n",
      "Loss on train: 0.112\n",
      "Loss on validate: 0.159\n",
      "Loss on test: 0.174\n",
      "\n"
     ]
    }
   ],
   "source": [
    "for mu in [0.1, 0.6, 0.8, 0.9, 0.95]:\n",
    "    net = Net(len(x_train.columns))\n",
    "\n",
    "    params = {\n",
    "        'net': net,\n",
    "        'epoch_amount': 70,\n",
    "        'early_stopping': 20,\n",
    "        'loss_f': torch.nn.MSELoss,\n",
    "        'optimizer': torch.optim.SGD(net.parameters(), lr=GD_lr, momentum=mu, nesterov=True),\n",
    "        'verbose': 0,\n",
    "    }\n",
    "\n",
    "    clf = TorchTrainer(**params)\n",
    "    clf.fit(torch_train, torch_val)\n",
    "    print(f'mu: {mu:.3f}')\n",
    "    clf.evaluate_all(torch_train, torch_val, torch_test)\n",
    "    print()\n",
    "    clf.plot_torch_losses(f'4.3/fit_model_NAG_{mu}.png', f'NAG, mu = {mu}')"
   ]
  },
  {
   "attachments": {},
   "cell_type": "markdown",
   "metadata": {},
   "source": [
    "### 4.4 Исследование методов наискорейшего спуска и сопряжённых градиентов\n"
   ]
  },
  {
   "attachments": {},
   "cell_type": "markdown",
   "metadata": {},
   "source": [
    "#### Метод наискорейшего спуска\n"
   ]
  },
  {
   "cell_type": "code",
   "execution_count": 55,
   "metadata": {},
   "outputs": [
    {
     "name": "stdout",
     "output_type": "stream",
     "text": [
      "Loss on train: 0.138\n",
      "Loss on test: 0.152\n"
     ]
    }
   ],
   "source": [
    "path = '4.4/models/SGD.h5'\n",
    "model = keras.Sequential(\n",
    "    [keras.layers.Dense(20, input_dim=input_shape, use_bias=True, activation=tf.nn.sigmoid),\n",
    "     keras.layers.Dense(20, use_bias=True, activation=tf.nn.sigmoid),\n",
    "     keras.layers.Dropout(0.3),\n",
    "     keras.layers.Dense(1, use_bias=True)])\n",
    "model.compile(optimizer=tf.optimizers.SGD(GD_lr), loss=tf.losses.mse)\n",
    "bad_callback = WeightsAndLossHistory(x_test, y_test)\n",
    "callbacks = [keras.callbacks.EarlyStopping(patience=30, monitor='val_loss'),\n",
    "             keras.callbacks.ModelCheckpoint(path, monitor='val_loss', save_best_only=True, mode='min', save_weights_only=True),\n",
    "             bad_callback]\n",
    "\n",
    "train_pred, test_pred, history = keras_trainer.fit(model, callbacks, path, epochs=300)\n",
    "\n",
    "print(f'Loss on train: {tf.losses.mse(y_train, train_pred):.3f}')\n",
    "print(f'Loss on test: {tf.losses.mse(y_test, test_pred):.3f}')\n",
    "\n",
    "plot_losses(history, bad_callback.test_losses, f'4.4/fit_model_SGD.png', f'SGD, lr = {GD_lr}')\n",
    "clear_plt()"
   ]
  },
  {
   "attachments": {},
   "cell_type": "markdown",
   "metadata": {},
   "source": [
    "#### Флэтчер-Ривс\n"
   ]
  },
  {
   "cell_type": "code",
   "execution_count": 22,
   "metadata": {},
   "outputs": [
    {
     "name": "stdout",
     "output_type": "stream",
     "text": [
      "Эпоха: 0\n",
      "Loss_train: 6.023625520832777e-13\n",
      "Loss_val: 0.36414703726768494\n",
      "\n",
      "Эпоха: 1\n",
      "Loss_train: 3.8593586475985087e-13\n",
      "Loss_val: 0.4108356336752574\n",
      "\n",
      "Эпоха: 2\n",
      "Loss_train: 7.498188205852683e-13\n",
      "Loss_val: 0.42005740602811176\n",
      "\n",
      "Эпоха: 3\n",
      "Loss_train: 7.109120143666655e-13\n",
      "Loss_val: 0.4336146016915639\n",
      "\n",
      "Loss on train: 0.427\n",
      "Loss on validate: 0.434\n",
      "Loss on test: 0.364\n"
     ]
    }
   ],
   "source": [
    "from torchmin import Minimizer\n",
    "\n",
    "net = Net(len(x_train.columns))\n",
    "\n",
    "params = {\n",
    "    'net': net,\n",
    "    'epoch_amount': 4,\n",
    "    'early_stopping': 10,\n",
    "    'loss_f': torch.nn.MSELoss,\n",
    "    'optimizer': Minimizer(net.parameters(), method='fr'),\n",
    "    'verbose': 1,\n",
    "}\n",
    "\n",
    "clf = TorchTrainer(**params)\n",
    "clf.fit_minimizer(torch_train, torch_val)\n",
    "clf.evaluate_all(torch_train, torch_val, torch_test)\n",
    "clf.plot_torch_losses(f\"4.4/fit_model_FR.png\", \"FR\")"
   ]
  },
  {
   "attachments": {},
   "cell_type": "markdown",
   "metadata": {},
   "source": [
    "#### Полак-Райбер\n"
   ]
  },
  {
   "cell_type": "code",
   "execution_count": 29,
   "metadata": {},
   "outputs": [
    {
     "name": "stdout",
     "output_type": "stream",
     "text": [
      "Эпоха: 0\n",
      "Loss_train: 9.64197502786627e-13\n",
      "Loss_val: 0.4452766180038452\n",
      "\n",
      "Эпоха: 1\n",
      "Loss_train: 8.85167602669957e-13\n",
      "Loss_val: 0.4151034702857335\n",
      "\n",
      "Эпоха: 2\n",
      "Loss_train: 6.283603442073482e-13\n",
      "Loss_val: 0.4225112646818161\n",
      "\n",
      "Эпоха: 3\n",
      "Loss_train: 1.2428276938587492e-12\n",
      "Loss_val: 0.4715741276741028\n",
      "\n",
      "Эпоха: 4\n",
      "Loss_train: 1.0934144713717114e-12\n",
      "Loss_val: 0.48977285623550415\n",
      "\n",
      "Эпоха: 5\n",
      "Loss_train: 8.238102456233389e-13\n",
      "Loss_val: 0.45300065477689105\n",
      "\n",
      "Эпоха: 6\n",
      "Loss_train: 1.0249066567358666e-12\n",
      "Loss_val: 0.5149538218975067\n",
      "\n",
      "Loss on train: 0.517\n",
      "Loss on validate: 0.519\n",
      "Loss on test: 0.495\n"
     ]
    }
   ],
   "source": [
    "from torchmin import Minimizer\n",
    "\n",
    "net = Net(len(x_train.columns))\n",
    "\n",
    "params = {\n",
    "    'net': net,\n",
    "    'epoch_amount': 7,\n",
    "    'early_stopping': 10,\n",
    "    'loss_f': torch.nn.MSELoss,\n",
    "    'optimizer': Minimizer(net.parameters(),method='cg'),\n",
    "    'verbose': 1,\n",
    "}\n",
    "\n",
    "clf = TorchTrainer(**params)\n",
    "clf.fit_minimizer(torch_train, torch_val)\n",
    "clf.evaluate_all(torch_train, torch_val, torch_test)\n",
    "clf.plot_torch_losses(f\"4.4/fit_model_PR.png\", \"PR\")"
   ]
  },
  {
   "attachments": {},
   "cell_type": "markdown",
   "metadata": {},
   "source": [
    "### 4.5 Исследование метода AdaGrad\n"
   ]
  },
  {
   "cell_type": "code",
   "execution_count": 90,
   "metadata": {},
   "outputs": [
    {
     "name": "stdout",
     "output_type": "stream",
     "text": [
      "Loss on train: 0.190\n",
      "Loss on test: 0.181\n"
     ]
    }
   ],
   "source": [
    "path = '4.5/models/adagrad.h5'\n",
    "model = keras.Sequential(\n",
    "    [keras.layers.Dense(20, input_dim=input_shape, use_bias=True, activation=tf.nn.sigmoid),\n",
    "     keras.layers.Dense(20, use_bias=True, activation=tf.nn.sigmoid),\n",
    "     keras.layers.Dropout(0.3),\n",
    "     keras.layers.Dense(1, use_bias=True)])\n",
    "\n",
    "bad_callback = WeightsAndLossHistory(x_test, y_test)\n",
    "\n",
    "model.compile(optimizer=tf.optimizers.Adagrad(0.05), loss=tf.losses.mse)\n",
    "callbacks = [keras.callbacks.EarlyStopping(patience=30, monitor='val_loss'),\n",
    "             keras.callbacks.ModelCheckpoint(path, monitor='val_loss', save_best_only=True, mode='min', save_weights_only=True),\n",
    "             bad_callback]\n",
    "\n",
    "train_pred, test_pred, history = keras_trainer.fit(model, callbacks, path, epochs=300)\n",
    "\n",
    "print(f'Loss on train: {tf.losses.mse(y_train, train_pred):.3f}')\n",
    "print(f'Loss on test: {tf.losses.mse(y_test, test_pred):.3f}')\n",
    "\n",
    "plot_losses(history, bad_callback.test_losses, f'4.5/fit_model_AdaGrad.png', f'AdaGrad')\n",
    "plot_weights(bad_callback.weights, f\"4.5/weights_AdaGrad.png\", f'AdaGrad')"
   ]
  },
  {
   "attachments": {},
   "cell_type": "markdown",
   "metadata": {},
   "source": [
    "### 4.6 Исследование методов RMSProp и AdaDelta\n"
   ]
  },
  {
   "attachments": {},
   "cell_type": "markdown",
   "metadata": {},
   "source": [
    "#### RMSProp\n"
   ]
  },
  {
   "cell_type": "code",
   "execution_count": 92,
   "metadata": {},
   "outputs": [
    {
     "name": "stdout",
     "output_type": "stream",
     "text": [
      "rho = 0\n",
      "Loss on train: 0.124\n",
      "Loss on test: 0.139\n",
      "rho = 0.4\n",
      "Loss on train: 0.103\n",
      "Loss on test: 0.146\n",
      "rho = 0.8\n",
      "Loss on train: 0.103\n",
      "Loss on test: 0.129\n",
      "rho = 0.9\n",
      "Loss on train: 0.108\n",
      "Loss on test: 0.148\n",
      "rho = 0.95\n",
      "Loss on train: 0.104\n",
      "Loss on test: 0.148\n"
     ]
    }
   ],
   "source": [
    "for rho in [0, 0.4, 0.8, 0.9, 0.95]:\n",
    "    path = f'4.6/models/rmspop_{rho}.h5'\n",
    "    model = keras.Sequential(\n",
    "        [keras.layers.Dense(20, input_dim=input_shape, use_bias=True, activation=tf.nn.sigmoid),\n",
    "         keras.layers.Dense(20, use_bias=True, activation=tf.nn.sigmoid),\n",
    "         keras.layers.Dropout(0.3),\n",
    "         keras.layers.Dense(1, use_bias=True)])\n",
    "\n",
    "    bad_callback = WeightsAndLossHistory(x_test, y_test)\n",
    "\n",
    "    model.compile(optimizer=tf.optimizers.RMSprop(0.01, rho=rho), loss=tf.losses.mse)\n",
    "    callbacks = [keras.callbacks.EarlyStopping(patience=30, monitor='val_loss'),\n",
    "                 keras.callbacks.ModelCheckpoint(path, monitor='val_loss', save_best_only=True, mode='min', save_weights_only=True),\n",
    "                 bad_callback]\n",
    "    \n",
    "    train_pred, test_pred, history = keras_trainer.fit(model, callbacks, path, epochs=300)\n",
    "\n",
    "    print(f'rho = {rho}')\n",
    "    print(f'Loss on train: {tf.losses.mse(y_train, train_pred):.3f}')\n",
    "    print(f'Loss on test: {tf.losses.mse(y_test, test_pred):.3f}')\n",
    "\n",
    "    plot_losses(history, bad_callback.test_losses, f\"4.6/fit_model_rmsprop_rho({rho}).png\", f'RMSprop, rho={rho}')\n",
    "    plot_weights(bad_callback.weights, f\"4.6/weights_rmsprop_rho({rho}).png\", f'RMSprop, rho={rho}')\n",
    "\n",
    "clear_plt()"
   ]
  },
  {
   "attachments": {},
   "cell_type": "markdown",
   "metadata": {},
   "source": [
    "#### AdaDelta\n"
   ]
  },
  {
   "cell_type": "code",
   "execution_count": 24,
   "metadata": {},
   "outputs": [
    {
     "name": "stdout",
     "output_type": "stream",
     "text": [
      "rho = 0\n",
      "Loss on train: 0.316\n",
      "Loss on test: 0.300\n",
      "rho = 0.4\n",
      "Loss on train: 0.701\n",
      "Loss on test: 0.671\n",
      "rho = 0.8\n",
      "Loss on train: 0.638\n",
      "Loss on test: 0.608\n",
      "rho = 0.9\n",
      "Loss on train: 0.487\n",
      "Loss on test: 0.467\n",
      "rho = 0.95\n",
      "Loss on train: 0.372\n",
      "Loss on test: 0.372\n"
     ]
    }
   ],
   "source": [
    "for rho in [0, 0.4, 0.8, 0.9, 0.95]:\n",
    "    path = f'4.6/models/adadelta_{rho}.h5'\n",
    "    model = keras.Sequential(\n",
    "        [keras.layers.Dense(20, input_dim=input_shape, use_bias=True, activation=tf.nn.sigmoid),\n",
    "         keras.layers.Dense(20, use_bias=True, activation=tf.nn.sigmoid),\n",
    "         keras.layers.Dropout(0.3),\n",
    "         keras.layers.Dense(1, use_bias=True)])\n",
    "\n",
    "    bad_callback = WeightsAndLossHistory(x_test, y_test)\n",
    "\n",
    "    model.compile(optimizer=tf.optimizers.Adadelta(0.1, rho=rho), loss=tf.losses.mse)\n",
    "    callbacks = [keras.callbacks.EarlyStopping(patience=30, monitor='val_loss'),\n",
    "                 keras.callbacks.ModelCheckpoint(path, monitor='val_loss', save_best_only=True, mode='min', save_weights_only=True),\n",
    "                 bad_callback]\n",
    "    \n",
    "    train_pred, test_pred, history = keras_trainer.fit(model, callbacks, path, epochs=300)\n",
    "\n",
    "    print(f'rho = {rho}')\n",
    "    print(f'Loss on train: {tf.losses.mse(y_train, train_pred):.3f}')\n",
    "    print(f'Loss on test: {tf.losses.mse(y_test, test_pred):.3f}')\n",
    "\n",
    "    plot_losses(history, bad_callback.test_losses, f\"4.6/fit_model_adadelta_rho({rho}).png\", f'AdaDelta, rho={rho}')\n",
    "    plot_weights(bad_callback.weights, f\"4.6/weights_adadelta_rho({rho}).png\", f'AdaDelta, rho={rho}')\n",
    "\n",
    "clear_plt()"
   ]
  },
  {
   "attachments": {},
   "cell_type": "markdown",
   "metadata": {},
   "source": [
    "### 4.7 Исследование метода Adam\n"
   ]
  },
  {
   "cell_type": "code",
   "execution_count": 94,
   "metadata": {},
   "outputs": [
    {
     "name": "stdout",
     "output_type": "stream",
     "text": [
      "β1 = 0, β2 = 0\n",
      "Loss on train: 0.128\n",
      "Loss on test: 0.147\n",
      "β1 = 0.4, β2 = 0.4\n",
      "Loss on train: 0.094\n",
      "Loss on test: 0.147\n",
      "β1 = 0.6, β2 = 0.6\n",
      "Loss on train: 0.102\n",
      "Loss on test: 0.142\n",
      "β1 = 0.9, β2 = 0.9\n",
      "Loss on train: 0.102\n",
      "Loss on test: 0.150\n",
      "β1 = 0.9, β2 = 0.999\n",
      "Loss on train: 0.106\n",
      "Loss on test: 0.142\n"
     ]
    }
   ],
   "source": [
    "for beta_1, beta_2 in zip([0, 0.4, 0.6, 0.9, 0.9], [0, 0.4, 0.6, 0.9, 0.999]):\n",
    "    path = f'4.7/models/adam_{beta_1}_{beta_2}.h5'\n",
    "    model = keras.Sequential(\n",
    "        [keras.layers.Dense(20, input_dim=input_shape, use_bias=True, activation=tf.nn.sigmoid),\n",
    "         keras.layers.Dense(20, use_bias=True, activation=tf.nn.sigmoid),\n",
    "         keras.layers.Dropout(0.3),\n",
    "         keras.layers.Dense(1, use_bias=True)])\n",
    "\n",
    "    bad_callback = WeightsAndLossHistory(x_test, y_test)\n",
    "\n",
    "    model.compile(optimizer=tf.optimizers.Adam(0.01, beta_1=beta_1, beta_2=beta_2), loss=tf.losses.mse)\n",
    "    callbacks = [keras.callbacks.EarlyStopping(patience=30, monitor='val_loss'),\n",
    "                 keras.callbacks.ModelCheckpoint(path, monitor='val_loss', save_best_only=True, mode='min',\n",
    "                                                 save_weights_only=True, initial_value_threshold=0.3),\n",
    "                 bad_callback]\n",
    "    \n",
    "    train_pred, test_pred, history = keras_trainer.fit(model, callbacks, path, epochs=300)\n",
    "\n",
    "    print(f'{b_code}1 = {beta_1}, {b_code}2 = {beta_2}')\n",
    "    print(f'Loss on train: {tf.losses.mse(y_train, train_pred):.3f}')\n",
    "    print(f'Loss on test: {tf.losses.mse(y_test, test_pred):.3f}')\n",
    "\n",
    "    plot_losses(history, bad_callback.test_losses, f\"4.7/fit_model_beta1({beta_1})_beta2({beta_2}).png\",\n",
    "                f'$Adam, {b_code}_1={beta_1}, {b_code}_2={beta_2}$')\n",
    "    plot_weights(bad_callback.weights, f\"4.7/weights_beta1({beta_1})_beta2({beta_2}).png\",\n",
    "                 f'$Adam, {b_code}_1={beta_1}, {b_code}_2={beta_2}$')\n",
    "\n",
    "clear_plt()"
   ]
  },
  {
   "attachments": {},
   "cell_type": "markdown",
   "metadata": {},
   "source": [
    "### 4.8 Исследование метода RProp\n"
   ]
  },
  {
   "cell_type": "code",
   "execution_count": 103,
   "metadata": {},
   "outputs": [
    {
     "name": "stdout",
     "output_type": "stream",
     "text": [
      "Loss on train: 0.293\n",
      "Loss on validate: 0.282\n",
      "Loss on test: 0.279\n"
     ]
    }
   ],
   "source": [
    "net = Net(len(x_train.columns))\n",
    "\n",
    "params = {\n",
    "    'net': net,\n",
    "    'epoch_amount': 300,\n",
    "    'early_stopping': 30,\n",
    "    'loss_f': torch.nn.MSELoss,\n",
    "    'optimizer': torch.optim.Rprop(net.parameters(), lr=0.1),\n",
    "    'verbose': 0,\n",
    "}\n",
    "\n",
    "clf = TorchTrainer(**params)\n",
    "clf.fit(torch_train, torch_val)\n",
    "clf.evaluate_all(torch_train, torch_val, torch_test)\n",
    "clf.plot_torch_losses(f\"4.8/fit_model_Rprop.png\", \"Rprop\")"
   ]
  },
  {
   "attachments": {},
   "cell_type": "markdown",
   "metadata": {},
   "source": [
    "### 4.9. Исследование методов Левенберга-Маркардта и BFGS\n"
   ]
  },
  {
   "attachments": {},
   "cell_type": "markdown",
   "metadata": {},
   "source": [
    "#### Левендберг-Маркадарт"
   ]
  },
  {
   "attachments": {},
   "cell_type": "markdown",
   "metadata": {},
   "source": [
    "#### BFGS"
   ]
  },
  {
   "cell_type": "code",
   "execution_count": 30,
   "metadata": {},
   "outputs": [
    {
     "name": "stdout",
     "output_type": "stream",
     "text": [
      "Эпоха: 0\n",
      "Loss_train: 6.827747865783791e-11\n",
      "Loss_val: 0.2756896490852038\n",
      "\n",
      "Эпоха: 1\n",
      "Loss_train: 6.69454235658865e-11\n",
      "Loss_val: 0.2611186703046163\n",
      "\n",
      "Loss on train: 0.272\n",
      "Loss on validate: 0.262\n",
      "Loss on test: 0.261\n"
     ]
    }
   ],
   "source": [
    "from torchmin import Minimizer\n",
    "\n",
    "net = Net(len(x_train.columns))\n",
    "\n",
    "params = {\n",
    "    'net': net,\n",
    "    'epoch_amount': 2,\n",
    "    'early_stopping': 10,\n",
    "    'loss_f': torch.nn.MSELoss,\n",
    "    'optimizer': Minimizer(net.parameters(), method='bfgs'),\n",
    "    'verbose': 1,\n",
    "}\n",
    "\n",
    "clf = TorchTrainer(**params)\n",
    "clf.fit_minimizer(torch_train, torch_val)\n",
    "clf.evaluate_all(torch_train, torch_val, torch_test)\n",
    "clf.plot_torch_losses(f\"4.9/fit_model_bfgs.png\", \"BFGS\")"
   ]
  },
  {
   "attachments": {},
   "cell_type": "markdown",
   "metadata": {},
   "source": [
    "### 4.10. Исследование метода стохастического градиента\n"
   ]
  },
  {
   "cell_type": "code",
   "execution_count": null,
   "metadata": {},
   "outputs": [],
   "source": [
    "for batch_size in [1, 20, 50, 100, len(x_train)]:\n",
    "    path = f'4.10/sgd_{batch_size}.h5'\n",
    "    model = keras.Sequential(\n",
    "        [keras.layers.Dense(20, input_dim=input_shape, use_bias=True, activation=tf.nn.sigmoid),\n",
    "         keras.layers.Dense(20, use_bias=True, activation=tf.nn.sigmoid),\n",
    "         keras.layers.Dropout(0.3),\n",
    "         keras.layers.Dense(1, use_bias=True)])\n",
    "\n",
    "    bad_callback = WeightsAndLossHistory(x_test, y_test)\n",
    "\n",
    "    model.compile(optimizer=tf.optimizers.SGD(GD_lr), loss=tf.losses.mse)\n",
    "    callbacks = [keras.callbacks.EarlyStopping(patience=30, monitor='val_loss'),\n",
    "                  keras.callbacks.ModelCheckpoint(path, monitor='val_loss', save_best_only=True, mode='min', save_weights_only=True),\n",
    "                  bad_callback]\n",
    "    \n",
    "    train_pred, test_pred, history = keras_trainer.fit(model, callbacks, path, epochs=300, batch_size=batch_size)\n",
    "\n",
    "    print(f'batch_size = {batch_size}')\n",
    "    print(f'Loss on train: {tf.losses.mse(y_train, train_pred):.3f}')\n",
    "    print(f'Loss on test: {tf.losses.mse(y_test, test_pred):.3f}')\n",
    "\n",
    "    plot_losses(history, bad_callback.test_losses, f\"4.10/fit_model_size({batch_size}).png\", f\"SGD, batch_size = {batch_size}\")\n",
    "\n",
    "clear_plt()"
   ]
  },
  {
   "cell_type": "code",
   "execution_count": 115,
   "metadata": {},
   "outputs": [
    {
     "name": "stdout",
     "output_type": "stream",
     "text": [
      "batch_size = 1\n",
      "Loss on train: 0.083\n",
      "Loss on validate: 0.133\n",
      "Loss on test: 0.183\n",
      "\n",
      "batch_size = 20\n",
      "Loss on train: 0.146\n",
      "Loss on validate: 0.179\n",
      "Loss on test: 0.176\n",
      "\n",
      "batch_size = 50\n",
      "Loss on train: 0.199\n",
      "Loss on validate: 0.207\n",
      "Loss on test: 0.195\n",
      "\n",
      "batch_size = 100\n",
      "Loss on train: 0.175\n",
      "Loss on validate: 0.177\n",
      "Loss on test: 0.163\n",
      "\n",
      "batch_size = 573\n",
      "Loss on train: 0.300\n",
      "Loss on validate: 0.288\n",
      "Loss on test: 0.304\n",
      "\n"
     ]
    }
   ],
   "source": [
    "for batch_size in [1, 20, 50, 100, len(x_train)]:\n",
    "    net = Net(len(x_train.columns))\n",
    "\n",
    "    params = {\n",
    "        'net': net,\n",
    "        'epoch_amount': 200,\n",
    "        'early_stopping': 20,\n",
    "        'loss_f': torch.nn.MSELoss,\n",
    "        'optimizer': torch.optim.SGD(net.parameters(), lr=GD_lr),\n",
    "        'batch_size': batch_size,\n",
    "        'verbose': 0,\n",
    "    }\n",
    "\n",
    "    clf = TorchTrainer(**params)\n",
    "    clf.fit(torch_train, torch_val)\n",
    "    print(f'batch_size = {batch_size}')\n",
    "    clf.evaluate_all(torch_train, torch_val, torch_test)\n",
    "    print()\n",
    "    clf.plot_torch_losses(f\"4.10/fit_model_size({batch_size}).png\", f\"SGD, batch_size = {batch_size}\")"
   ]
  },
  {
   "attachments": {},
   "cell_type": "markdown",
   "metadata": {},
   "source": [
    "### 4.11. Сравнение методов обучения\n"
   ]
  },
  {
   "attachments": {},
   "cell_type": "markdown",
   "metadata": {},
   "source": [
    "|Метод|lr|parametrs|\n",
    "|-----|---|---------|\n",
    "|SGD|0.1|-|\n",
    "|GDM|0.1|$\\mu = 0.9$|\n",
    "|NAG|0.1|$\\mu = 0.9$|\n",
    "|Adagrad|0.05|-|\n",
    "|Adadelta|0.1|$\\rho=0$|\n",
    "|RMSprop|0.01|$\\rho=0.95$|\n",
    "|Adam|0.01|$\\beta_1=0.9, \\beta_2=0.999$| \n",
    "|Rprop|0.1|-|"
   ]
  },
  {
   "cell_type": "code",
   "execution_count": 124,
   "metadata": {},
   "outputs": [
    {
     "name": "stdout",
     "output_type": "stream",
     "text": [
      "Adam\n",
      "Loss on train: 0.105\n",
      "Loss on test: 0.133\n",
      "AdaDelta\n",
      "Loss on train: 0.278\n",
      "Loss on test: 0.275\n",
      "Adagrad\n",
      "Loss on train: 0.174\n",
      "Loss on test: 0.171\n",
      "SGD\n",
      "Loss on train: 0.179\n",
      "Loss on test: 0.164\n",
      "RMSprop\n",
      "Loss on train: 0.092\n",
      "Loss on test: 0.159\n",
      "GDM\n",
      "Loss on train: 0.091\n",
      "Loss on test: 0.137\n",
      "NAG\n",
      "Loss on train: 0.118\n",
      "Loss on test: 0.164\n",
      "Rprop\n",
      "Loss on train: 0.188\n",
      "Loss on test: 0.166\n"
     ]
    }
   ],
   "source": [
    "import keras.optimizers as opt\n",
    "\n",
    "optimizers = [opt.Adam(0.01, beta_1=0.9, beta_2=0.999), opt.Adadelta(0.1, rho=0), opt.Adagrad(0.05), opt.SGD(0.1),\n",
    "              opt.RMSprop(0.01, rho=0.95), opt.SGD(0.1, momentum=0.9), opt.SGD(0.1, momentum=0.9, nesterov=True)]\n",
    "names = ['Adam', 'AdaDelta', 'Adagrad', 'SGD', 'RMSprop', 'GDM', 'NAG']\n",
    "\n",
    "train_errors = []\n",
    "test_errors = []\n",
    "epochs_number = []\n",
    "for optimizer, name in zip(optimizers, names):\n",
    "    path = f'4.11/models/{name}.h5'\n",
    "    model = keras.Sequential(\n",
    "        [keras.layers.Dense(20, input_dim=input_shape, use_bias=True, activation=tf.nn.sigmoid),\n",
    "         keras.layers.Dense(20, use_bias=True, activation=tf.nn.sigmoid),\n",
    "         keras.layers.Dropout(0.3),\n",
    "         keras.layers.Dense(1, use_bias=True)])\n",
    "\n",
    "    model.compile(optimizer=optimizer, loss=tf.losses.mse)\n",
    "    callbacks = [keras.callbacks.EarlyStopping(patience=30, monitor='val_loss'),\n",
    "                 keras.callbacks.ModelCheckpoint(path, monitor='val_loss', save_best_only=True, mode='min', save_weights_only=True)]\n",
    "    history = model.fit(x_train, y_train, epochs=500, batch_size=100,\n",
    "                        validation_data=(x_validate, y_validate),\n",
    "                        use_multiprocessing=True, workers=-1,\n",
    "                        callbacks=callbacks, verbose=0)\n",
    "    model.load_weights(path)\n",
    "    train_pred = model.predict(x_train, verbose=0).reshape(-1)\n",
    "    test_pred = model.predict(x_test, verbose=0).reshape(-1)\n",
    "\n",
    "    train_errors.append(tf.losses.mse(y_train, train_pred))\n",
    "    test_errors.append(tf.losses.mse(y_test, test_pred))\n",
    "    epochs_number.append(len(history.history['val_loss']))\n",
    "\n",
    "    print(name)\n",
    "    print(f'Loss on train: {tf.losses.mse(y_train, train_pred):.3f}')\n",
    "    print(f'Loss on test: {tf.losses.mse(y_test, test_pred):.3f}')\n",
    "\n",
    "net = Net(len(x_train.columns))\n",
    "\n",
    "params = {\n",
    "    'net': net,\n",
    "    'epoch_amount': 300,\n",
    "    'early_stopping': 30,\n",
    "    'loss_f': torch.nn.MSELoss,\n",
    "    'optimizer': torch.optim.Rprop(net.parameters(), lr=0.1),\n",
    "    'batch_size': 100,\n",
    "    'verbose': 0,\n",
    "}\n",
    "\n",
    "clf = TorchTrainer(**params)\n",
    "clf.fit(torch_train, torch_val)\n",
    "train_errors.append(clf.evaluate(torch_train))\n",
    "test_errors.append(clf.evaluate(torch_test))\n",
    "epochs_number.append(len(clf.train_loss))\n",
    "names.append('Rprop')\n",
    "print('Rprop')\n",
    "print(f'Loss on train: {train_errors[-1]:.3f}')\n",
    "print(f'Loss on test: {test_errors[-1]:.3f}')"
   ]
  },
  {
   "cell_type": "code",
   "execution_count": 135,
   "metadata": {},
   "outputs": [],
   "source": [
    "fig, ax = plt.subplots(1, 1)\n",
    "fig.set_figwidth(10)\n",
    "fig.set_figheight(6)\n",
    "ax.bar(names, train_errors)\n",
    "ax.set_ylabel('train mse')\n",
    "ax.set_axisbelow(True)\n",
    "ax.grid(zorder=0)\n",
    "ax.set_title('Train Loss')\n",
    "fig.savefig('4.11/train_mse.png')\n",
    "\n",
    "fig, ax = plt.subplots(1, 1)\n",
    "fig.set_figwidth(10)\n",
    "fig.set_figheight(6)\n",
    "ax.bar(names, test_errors)\n",
    "ax.set_ylabel('test mse')\n",
    "ax.set_axisbelow(True)\n",
    "ax.grid(zorder=0)\n",
    "ax.set_title('Test Loss')\n",
    "fig.savefig('4.11/test_mse.png')\n",
    "\n",
    "fig, ax = plt.subplots(1, 1)\n",
    "fig.set_figwidth(10)\n",
    "fig.set_figheight(6)\n",
    "\n",
    "ax.bar(names, epochs_number)\n",
    "ax.set_ylabel('epochs')\n",
    "ax.grid(zorder=0)\n",
    "ax.set_axisbelow(True)\n",
    "fig.savefig('4.11/epochs.png')\n",
    "clear_plt()"
   ]
  },
  {
   "attachments": {},
   "cell_type": "markdown",
   "metadata": {},
   "source": [
    "### 4.12. Исследование влияния способа инициализации весов на качество обучения\n"
   ]
  },
  {
   "attachments": {},
   "cell_type": "markdown",
   "metadata": {},
   "source": [
    "#### Кривые обучения для разных весов\n"
   ]
  },
  {
   "cell_type": "code",
   "execution_count": 101,
   "metadata": {},
   "outputs": [
    {
     "name": "stdout",
     "output_type": "stream",
     "text": [
      "sigm = 0.05\n",
      "Loss on train: 0.094\n",
      "Loss on test: 0.154\n",
      "sigm = 1\n",
      "Loss on train: 0.076\n",
      "Loss on test: 0.136\n",
      "sigm = 3\n",
      "Loss on train: 0.283\n",
      "Loss on test: 0.401\n"
     ]
    }
   ],
   "source": [
    "import tensorflow.keras.initializers as inits\n",
    "\n",
    "for sigm, initializer in zip([0.05, 1, 3],\n",
    "                             [inits.RandomNormal(mean=0, stddev=0.05, seed=random_state),\n",
    "                              inits.GlorotNormal(seed=random_state),\n",
    "                              inits.RandomNormal(mean=0, stddev=3, seed=random_state)]):\n",
    "    path = f'4.12/models/normal_model_{sigm}_{random_state}.h5'\n",
    "\n",
    "    if sigm == 1:\n",
    "        model = keras.Sequential(\n",
    "            [keras.layers.Dense(20, input_dim=input_shape, use_bias=True, activation=tf.nn.sigmoid),\n",
    "             keras.layers.Dense(20, use_bias=True, activation=tf.nn.sigmoid),\n",
    "             keras.layers.Dropout(0.3),\n",
    "             keras.layers.Dense(1, use_bias=True)])\n",
    "    else:\n",
    "        model = keras.Sequential([tf.keras.layers.Dense(20, input_dim=input_shape, use_bias=True,\n",
    "                                                        activation='sigmoid', kernel_initializer=initializer),\n",
    "                                  tf.keras.layers.Dense(20, use_bias=True, activation='sigmoid',\n",
    "                                                        kernel_initializer=initializer),\n",
    "                                  tf.keras.layers.Dropout(0.3),\n",
    "                                  tf.keras.layers.Dense(1, use_bias=True, kernel_initializer=initializer)])\n",
    "\n",
    "    bad_callback = WeightsAndLossHistory(x_test, y_test)\n",
    "\n",
    "    model.compile(optimizer=tf.optimizers.Adam(0.01), loss=tf.losses.mse)\n",
    "    callbacks = [keras.callbacks.EarlyStopping(patience=30, monitor='val_loss'),\n",
    "                 keras.callbacks.ModelCheckpoint(path, monitor='val_loss', save_best_only=True, mode='min', save_weights_only=True),\n",
    "                 bad_callback]\n",
    "    \n",
    "    train_pred, test_pred, history = keras_trainer.fit(model, callbacks, path, epochs=500)\n",
    "\n",
    "    print(f'sigm = {sigm}')\n",
    "    print(f'Loss on train: {tf.losses.mse(y_train, train_pred):.3f}')\n",
    "    print(f'Loss on test: {tf.losses.mse(y_test, test_pred):.3f}')\n",
    "\n",
    "    plt.figure(figsize=(12, 6))\n",
    "    plt.plot(history.history['loss'][10:], label='train mse')\n",
    "    plt.plot(history.history['val_loss'][10:], label='validate mse')\n",
    "    plt.plot(bad_callback.test_losses[10:], label='test mse')\n",
    "    plt.ylabel('error')\n",
    "    plt.xlabel('epoch')\n",
    "    if sigm != 1:\n",
    "        plt.title(f'$\\sigma$ = sigm')\n",
    "    else:\n",
    "        plt.title('Xavier')\n",
    "    plt.legend()\n",
    "    plt.grid()\n",
    "    plt.savefig(f\"4.12/fit_model_sigm({sigm}).png\")\n",
    "clear_plt()"
   ]
  },
  {
   "attachments": {},
   "cell_type": "markdown",
   "metadata": {},
   "source": [
    "#### Результаты при обучении с различными весами\n"
   ]
  },
  {
   "attachments": {},
   "cell_type": "markdown",
   "metadata": {},
   "source": [
    "##### Нормальное"
   ]
  },
  {
   "cell_type": "code",
   "execution_count": 24,
   "metadata": {},
   "outputs": [
    {
     "name": "stdout",
     "output_type": "stream",
     "text": [
      "sigm = 0\n",
      "mse: 0.3351, std = 0.000\n",
      "mse: 0.3424, std = 0.000\n",
      "sigm = 1\n",
      "mse: 0.1016, std = 0.015\n",
      "mse: 0.1550, std = 0.012\n",
      "sigm = 3\n",
      "mse: 0.2006, std = 0.036\n",
      "mse: 0.2876, std = 0.072\n"
     ]
    }
   ],
   "source": [
    "n_ = 10\n",
    "for sigm in [0, 1, 3]:\n",
    "    train_mse = np.zeros(n_)\n",
    "    test_mse = np.zeros(n_)\n",
    "    for r_seed in range(n_):\n",
    "        path = f'4.12/models/normal_model_{sigm}_{r_seed}.h5'\n",
    "        initializer = tf.keras.initializers.RandomNormal(mean=0., stddev=sigm, seed=r_seed)\n",
    "        model = keras.Sequential([tf.keras.layers.Dense(20, input_dim=input_shape, use_bias=True,\n",
    "                                                        activation='sigmoid', kernel_initializer=initializer),\n",
    "                                  tf.keras.layers.Dense(20, use_bias=True, activation='sigmoid',\n",
    "                                                        kernel_initializer=initializer),\n",
    "                                  tf.keras.layers.Dropout(0.3),\n",
    "                                  tf.keras.layers.Dense(1, use_bias=True, kernel_initializer=initializer)])\n",
    "\n",
    "        model.compile(optimizer=keras.optimizers.Adam(0.01), loss=tf.losses.mse)\n",
    "        callbacks = [keras.callbacks.EarlyStopping(patience=30, monitor='val_loss'),\n",
    "                     keras.callbacks.ModelCheckpoint(path, monitor='val_loss', save_best_only=True, mode='min', save_weights_only=True)]\n",
    "        \n",
    "        train_pred, test_pred, history = keras_trainer.fit(model, callbacks, path, epochs=500)\n",
    "\n",
    "        train_mse[r_seed] = tf.losses.mse(y_train, train_pred)\n",
    "        test_mse[r_seed] = tf.losses.mse(y_test, test_pred)\n",
    "\n",
    "    print(f'sigm = {sigm}')\n",
    "    print(f'mse: {train_mse.mean():.4f}, std = {train_mse.std(ddof=1):.3f}')\n",
    "    print(f'mse: {test_mse.mean():.4f}, std = {test_mse.std(ddof=1):.3f}')\n",
    "clear_plt()"
   ]
  },
  {
   "attachments": {},
   "cell_type": "markdown",
   "metadata": {},
   "source": [
    "##### Равномерное"
   ]
  },
  {
   "cell_type": "code",
   "execution_count": 104,
   "metadata": {},
   "outputs": [
    {
     "name": "stdout",
     "output_type": "stream",
     "text": [
      "sigm = 0\n",
      "mse: 0.3351, std = 0.000\n",
      "mse: 0.3424, std = 0.000\n",
      "sigm = 1\n",
      "mse: 0.1036, std = 0.008\n",
      "mse: 0.1726, std = 0.022\n",
      "sigm = 3\n",
      "mse: 13.2340, std = 6.169\n",
      "mse: 21.8519, std = 12.713\n"
     ]
    }
   ],
   "source": [
    "n_ = 10\n",
    "os.makedirs('4.12/models', exist_ok=True)\n",
    "for sigm in [0, 1, 3]:\n",
    "    train_mse = np.zeros(n_)\n",
    "    test_mse = np.zeros(n_)\n",
    "    b = 3 * sigm ** 2\n",
    "    for r_seed in range(n_):\n",
    "        path = f'4.12/models/universe_model_{sigm}_{r_seed}.h5'\n",
    "        initializer = tf.keras.initializers.RandomUniform(minval=-b, maxval=b, seed=r_seed)\n",
    "        model = keras.Sequential([tf.keras.layers.Dense(20, input_dim=input_shape, use_bias=True,\n",
    "                                                        activation='sigmoid', kernel_initializer=initializer),\n",
    "                                  tf.keras.layers.Dense(20, use_bias=True, activation='sigmoid',\n",
    "                                                        kernel_initializer=initializer),\n",
    "                                  tf.keras.layers.Dropout(0.3),\n",
    "                                  tf.keras.layers.Dense(1, use_bias=True, kernel_initializer=initializer)])\n",
    "\n",
    "        model.compile(optimizer=keras.optimizers.Adam(0.01), loss=tf.losses.mse)\n",
    "        callbacks = [keras.callbacks.EarlyStopping(patience=30, monitor='val_loss'),\n",
    "                     keras.callbacks.ModelCheckpoint(path, monitor='val_loss', save_best_only=True, mode='min', save_weights_only=True)]\n",
    "        \n",
    "        train_pred, test_pred, history = keras_trainer.fit(model, callbacks, path, epochs=500)\n",
    "\n",
    "        train_mse[r_seed] = tf.losses.mse(y_train, train_pred)\n",
    "        test_mse[r_seed] = tf.losses.mse(y_test, test_pred)\n",
    "\n",
    "    print(f'sigm = {sigm}')\n",
    "    print(f'mse: {train_mse.mean():.4f}, std = {train_mse.std(ddof=1):.3f}')\n",
    "    print(f'mse: {test_mse.mean():.4f}, std = {test_mse.std(ddof=1):.3f}')\n",
    "clear_plt()"
   ]
  },
  {
   "attachments": {},
   "cell_type": "markdown",
   "metadata": {},
   "source": [
    "##### Усечённое нормальное"
   ]
  },
  {
   "cell_type": "code",
   "execution_count": 105,
   "metadata": {},
   "outputs": [
    {
     "name": "stdout",
     "output_type": "stream",
     "text": [
      "sigm = 0\n",
      "mse: 0.3351, std = 0.000\n",
      "mse: 0.3424, std = 0.000\n",
      "sigm = 1\n",
      "mse: 0.0988, std = 0.011\n",
      "mse: 0.1422, std = 0.012\n",
      "sigm = 3\n",
      "mse: 0.1510, std = 0.036\n",
      "mse: 0.2249, std = 0.049\n"
     ]
    }
   ],
   "source": [
    "n_ = 10\n",
    "\n",
    "for sigm in [0, 1, 3]:\n",
    "    train_mse = np.zeros(n_)\n",
    "    test_mse = np.zeros(n_)\n",
    "    for r_seed in range(n_):\n",
    "        path = f'4.12/models/truncated_normal_model_{sigm}_{r_seed}.h5'\n",
    "        initializer = tf.keras.initializers.TruncatedNormal(mean=0, stddev=sigm, seed=r_seed)\n",
    "        model = keras.Sequential([tf.keras.layers.Dense(20, input_dim=input_shape, use_bias=True,\n",
    "                                                        activation='sigmoid', kernel_initializer=initializer),\n",
    "                                  tf.keras.layers.Dense(20, use_bias=True, activation='sigmoid',\n",
    "                                                        kernel_initializer=initializer),\n",
    "                                  tf.keras.layers.Dropout(0.3),\n",
    "                                  tf.keras.layers.Dense(1, use_bias=True, kernel_initializer=initializer)])\n",
    "\n",
    "        model.compile(optimizer=keras.optimizers.Adam(0.01), loss=tf.losses.mse)\n",
    "        callbacks = [keras.callbacks.EarlyStopping(patience=30, monitor='val_loss'),\n",
    "                     keras.callbacks.ModelCheckpoint(path, monitor='val_loss', save_best_only=True, mode='min', save_weights_only=True)]\n",
    "        \n",
    "        train_pred, test_pred, history = keras_trainer.fit(model, callbacks, path, epochs=500)\n",
    "\n",
    "        train_mse[r_seed] = tf.losses.mse(y_train, train_pred)\n",
    "        test_mse[r_seed] = tf.losses.mse(y_test, test_pred)\n",
    "\n",
    "    print(f'sigm = {sigm}')\n",
    "    print(f'mse: {train_mse.mean():.4f}, std = {train_mse.std(ddof=1):.3f}')\n",
    "    print(f'mse: {test_mse.mean():.4f}, std = {test_mse.std(ddof=1):.3f}')\n",
    "clear_plt()"
   ]
  },
  {
   "attachments": {},
   "cell_type": "markdown",
   "metadata": {},
   "source": [
    "### 4.13 Методы кросс-валидации\n"
   ]
  },
  {
   "cell_type": "code",
   "execution_count": 42,
   "metadata": {
    "notebookRunGroups": {
     "groupValue": "1"
    }
   },
   "outputs": [],
   "source": [
    "X = new_df.drop(columns=['strength'])\n",
    "Y = new_df['strength']\n",
    "X_np = X.to_numpy()\n",
    "Y_np = Y.to_numpy()"
   ]
  },
  {
   "attachments": {},
   "cell_type": "markdown",
   "metadata": {},
   "source": [
    "#### Monte Carlo"
   ]
  },
  {
   "cell_type": "code",
   "execution_count": 30,
   "metadata": {},
   "outputs": [
    {
     "name": "stdout",
     "output_type": "stream",
     "text": [
      "Monte Carlo results:\n",
      "Error on train = 0.169 +- 0.016\n",
      "Error on test = 0.146 +- 0.013\n"
     ]
    }
   ],
   "source": [
    "batch_epoch = 10\n",
    "n_batch = 25\n",
    "n_models = 10\n",
    "\n",
    "mc_loss_train = np.zeros(n_models)\n",
    "mc_loss_test = np.zeros(n_models)\n",
    "\n",
    "for i in range(n_models):\n",
    "    path = f'4.13/models/model_mc_{i}.h5'\n",
    "\n",
    "    model = keras.Sequential([tf.keras.layers.Dense(20, input_dim=input_shape, use_bias=True,\n",
    "                                                    activation='sigmoid'),\n",
    "                              tf.keras.layers.Dense(20, use_bias=True, activation='sigmoid'),\n",
    "                              tf.keras.layers.Dropout(0.3),\n",
    "                              tf.keras.layers.Dense(1, use_bias=True)])\n",
    "\n",
    "    model.compile(optimizer=keras.optimizers.Adam(0.005), loss=tf.losses.mse)\n",
    "\n",
    "    for e in range(n_batch):\n",
    "        mc_x_train, mc_x_test, mc_y_train, mc_y_test = train_test_split(X, Y, test_size=0.3,\n",
    "                                                                        shuffle=True, random_state=10 * i + e)\n",
    "\n",
    "        history = model.fit(mc_x_train, mc_y_train, epochs=batch_epoch, batch_size=50,\n",
    "                            use_multiprocessing=True, workers=-1, verbose=0)\n",
    "\n",
    "    scores_test = model.evaluate(x_test, y_test, verbose=0)\n",
    "    scores_train = model.evaluate(x_train, y_train, verbose=0)\n",
    "\n",
    "    mc_loss_train[i] = scores_train\n",
    "    mc_loss_test[i] = scores_test\n",
    "\n",
    "print('Monte Carlo results:')\n",
    "print(f\"Error on train = {mc_loss_train.mean():.3f} +- {np.std(mc_loss_train):.3f}\\n\"\n",
    "      f\"Error on test = {mc_loss_test.mean():.3f} +- {np.std(mc_loss_test):.3f}\")"
   ]
  },
  {
   "attachments": {},
   "cell_type": "markdown",
   "metadata": {},
   "source": [
    "#### Holdout"
   ]
  },
  {
   "cell_type": "code",
   "execution_count": 31,
   "metadata": {},
   "outputs": [
    {
     "name": "stdout",
     "output_type": "stream",
     "text": [
      "Holdout results:\n",
      "Error on train = 0.168 +- 0.049\n",
      "Error on test = 0.176 +- 0.033\n"
     ]
    }
   ],
   "source": [
    "batch_epoch = 10\n",
    "n_batch = 25\n",
    "n_models = 10\n",
    "\n",
    "ho_loss_train = np.zeros(n_models)\n",
    "ho_loss_test = np.zeros(n_models)\n",
    "\n",
    "for i in range(n_models):\n",
    "    path = f'4.13/models/model_ho_{i}.h5'\n",
    "\n",
    "    ho_x_train, ho_x_test, ho_y_train, ho_y_test = train_test_split(X, Y, test_size=0.3, random_state=i)\n",
    "\n",
    "    model = keras.Sequential(\n",
    "        [keras.layers.Dense(20, input_dim=input_shape, use_bias=True, activation=tf.nn.sigmoid),\n",
    "         keras.layers.Dense(20, use_bias=True, activation=tf.nn.sigmoid),\n",
    "         keras.layers.Dropout(0.3),\n",
    "         keras.layers.Dense(1, use_bias=True)])\n",
    "\n",
    "    model.compile(optimizer=tf.optimizers.Adam(0.005), loss=tf.losses.mse)\n",
    "\n",
    "    callbacks = [keras.callbacks.EarlyStopping(patience=30, monitor='val_loss'),\n",
    "                 keras.callbacks.ModelCheckpoint(path, monitor='val_loss', save_best_only=True, mode='min', save_weights_only=True)]\n",
    "    history = model.fit(ho_x_train, ho_y_train, epochs=300, batch_size=50,\n",
    "                        validation_data=(ho_x_test, ho_y_test),\n",
    "                        use_multiprocessing=True, workers=-1,\n",
    "                        callbacks=callbacks, verbose=0)\n",
    "    model.load_weights(path)\n",
    "\n",
    "    scores_test = model.evaluate(ho_x_test, ho_y_test, verbose=0)\n",
    "    scores_train = model.evaluate(ho_x_train, ho_y_train, verbose=0)\n",
    "\n",
    "    ho_loss_train[i] = scores_train\n",
    "    ho_loss_test[i] = scores_test\n",
    "\n",
    "print(\"Holdout results:\")\n",
    "print(f\"Error on train = {ho_loss_train.mean():.3f} +- {np.std(ho_loss_train):.3f}\\n\"\n",
    "      f\"Error on test = {ho_loss_test.mean():.3f} +- {np.std(ho_loss_test):.3f}\")"
   ]
  },
  {
   "attachments": {},
   "cell_type": "markdown",
   "metadata": {},
   "source": [
    "#### K Fold"
   ]
  },
  {
   "cell_type": "code",
   "execution_count": 38,
   "metadata": {},
   "outputs": [
    {
     "name": "stdout",
     "output_type": "stream",
     "text": [
      "10-folds\n",
      "Error on train = 0.157 +- 0.010\n",
      "Error on test = 0.151 +- 0.023\n",
      "\n"
     ]
    }
   ],
   "source": [
    "n_folds = [4, 6, 8, 10]\n",
    "\n",
    "kfold_loss_train = np.zeros(len(n_folds))\n",
    "kfold_loss_test = np.zeros(len(n_folds))\n",
    "\n",
    "for idx, n in enumerate(n_folds):\n",
    "    kfold = sklearn.model_selection.KFold(n_splits=n, shuffle=True)\n",
    "    path = f'4.13/models/model_kfold_{n}.h5'\n",
    "    loss_train = []\n",
    "    loss_test = []\n",
    "\n",
    "    for train, test in kfold.split(X_np, Y_np):\n",
    "        model = keras.Sequential([keras.layers.Dense(20, input_dim=input_shape, use_bias=True, activation='sigmoid'),\n",
    "                                  keras.layers.Dense(20, use_bias=True, activation='sigmoid'),\n",
    "                                  keras.layers.Dropout(0.3),\n",
    "                                  keras.layers.Dense(1, use_bias=True)])\n",
    "\n",
    "        model.compile(optimizer=tf.optimizers.Adam(0.01), loss=tf.losses.mse)\n",
    "\n",
    "        callbacks = [keras.callbacks.EarlyStopping(patience=50, monitor='val_loss'),\n",
    "                     keras.callbacks.ModelCheckpoint(path, monitor='val_loss', save_best_only=True, mode='min', save_weights_only=True)]\n",
    "\n",
    "        kfold_x_train = X_np[train]\n",
    "        kfold_y_train = Y_np[train]\n",
    "\n",
    "        kfold_x_test = X_np[test]\n",
    "        kfold_y_test = Y_np[test]\n",
    "\n",
    "        history = model.fit(kfold_x_train, kfold_y_train, epochs=300, batch_size=100,\n",
    "                            validation_data=(kfold_x_test, kfold_y_test),\n",
    "                            use_multiprocessing=True, workers=-1,\n",
    "                            callbacks=callbacks, verbose=0)\n",
    "\n",
    "        model.load_weights(path)\n",
    "\n",
    "        scores_test = model.evaluate(kfold_x_test, kfold_y_test, verbose=0)\n",
    "        scores_train = model.evaluate(kfold_x_train, kfold_y_train, verbose=0)\n",
    "\n",
    "        loss_train.append(scores_train)\n",
    "        loss_test.append(scores_test)\n",
    "\n",
    "    kfold_loss_train[idx] = sum(loss_train) / len(loss_train)\n",
    "    kfold_loss_test[idx] = sum(loss_test) / len(loss_test)\n",
    "    if n == 10:\n",
    "        print(f\"{n}-folds\\n\"\n",
    "              f\"Error on train = {kfold_loss_train[idx]:.3f} +- {np.std(loss_train):.3f}\\n\"\n",
    "              f\"Error on test = {kfold_loss_test[idx]:.3f} +- {np.std(loss_test):.3f}\\n\")\n",
    "\n",
    "plt.figure(figsize=(12, 6))\n",
    "plt.plot(n_folds, kfold_loss_train, label='error on train')\n",
    "plt.plot(n_folds, kfold_loss_test, label='error on test')\n",
    "plt.legend()\n",
    "plt.grid()\n",
    "plt.savefig(\"4.13/KFold.png\")\n",
    "clear_plt()"
   ]
  },
  {
   "attachments": {},
   "cell_type": "markdown",
   "metadata": {},
   "source": [
    "#### LOOCV"
   ]
  },
  {
   "cell_type": "code",
   "execution_count": 43,
   "metadata": {},
   "outputs": [
    {
     "name": "stdout",
     "output_type": "stream",
     "text": [
      "\n",
      "LOOCV results:\n",
      "Error on train = 0.174 +- 0.031\n",
      "Error on test = 0.148 +- 0.036\n"
     ]
    }
   ],
   "source": [
    "n_splits = 20\n",
    "\n",
    "lv_loss_train = np.zeros(n_splits)\n",
    "lv_loss_test = np.zeros(n_splits)\n",
    "\n",
    "for i in range(n_splits):\n",
    "    path = f'4.13/models/model_lv_{i}.h5'\n",
    "    lv_x_train, lv_x_test, lv_y_train, lv_y_test = train_test_split(X, Y, test_size=20, shuffle=True, random_state=i)\n",
    "\n",
    "    model = keras.Sequential([keras.layers.Dense(20, input_dim=input_shape, use_bias=True, activation=tf.nn.sigmoid),\n",
    "                              keras.layers.Dense(20, use_bias=True, activation=tf.nn.sigmoid),\n",
    "                              keras.layers.Dropout(0.3),\n",
    "                              keras.layers.Dense(1, use_bias=True)])\n",
    "\n",
    "    model.compile(optimizer=tf.optimizers.Adam(0.005), loss=tf.losses.mse)\n",
    "\n",
    "    callbacks = [keras.callbacks.EarlyStopping(patience=50, monitor='val_loss'),\n",
    "                 keras.callbacks.ModelCheckpoint(path, monitor='val_loss', save_best_only=True, mode='min', save_weights_only=True)]\n",
    "\n",
    "    history = model.fit(lv_x_train, lv_y_train, epochs=300, batch_size=100,\n",
    "                        validation_data=(lv_x_test, lv_y_test),\n",
    "                        use_multiprocessing=True, workers=-1,\n",
    "                        callbacks=callbacks, verbose=0)\n",
    "\n",
    "    model.load_weights(path)\n",
    "    scores_test = model.evaluate(x_test, y_test, verbose=0)\n",
    "    scores_train = model.evaluate(x_train, y_train, verbose=0)\n",
    "\n",
    "    lv_loss_train[i] = scores_train\n",
    "    lv_loss_test[i] = scores_test\n",
    "\n",
    "print(\"LOOCV results:\")\n",
    "print(f\"Error on train = {lv_loss_train.mean():.3f} +- {lv_loss_train.std():.3f}\\n\"\n",
    "      f\"Error on test = {lv_loss_test.mean():.3f} +- {lv_loss_test.std():.3f}\")"
   ]
  },
  {
   "attachments": {},
   "cell_type": "markdown",
   "metadata": {},
   "source": [
    "### 4.14. Исследование различных архитектур нейронных сетей\n"
   ]
  },
  {
   "attachments": {},
   "cell_type": "markdown",
   "metadata": {},
   "source": [
    "#### Исследование зависимости качества обучения от числа нейронов в скрытых слоях\n"
   ]
  },
  {
   "cell_type": "code",
   "execution_count": 46,
   "metadata": {},
   "outputs": [
    {
     "name": "stdout",
     "output_type": "stream",
     "text": [
      "n1: 10, n2: 10\n",
      "Loss on train: 0.143\n",
      "Loss on test: 0.159\n",
      "n1: 20, n2: 20\n",
      "Loss on train: 0.121\n",
      "Loss on test: 0.138\n",
      "n1: 30, n2: 30\n",
      "Loss on train: 0.090\n",
      "Loss on test: 0.121\n",
      "n1: 30, n2: 40\n",
      "Loss on train: 0.089\n",
      "Loss on test: 0.115\n",
      "n1: 40, n2: 40\n",
      "Loss on train: 0.091\n",
      "Loss on test: 0.117\n",
      "n1: 50, n2: 50\n",
      "Loss on train: 0.082\n",
      "Loss on test: 0.111\n"
     ]
    }
   ],
   "source": [
    "n_folds = 10\n",
    "for n1, n2 in zip([10, 20, 30, 30, 40, 50], [10, 20, 30, 40, 40, 50]):\n",
    "    kfold = sklearn.model_selection.KFold(n_splits=n_folds, shuffle=True)\n",
    "    path = f'4.14/models/model_{n1}_{n2}.h5'\n",
    "    train_loss, test_loss = 0, 0\n",
    "    for train, test in kfold.split(X_np, Y_np):\n",
    "        model = keras.Sequential([keras.layers.Dense(n1, input_dim=input_shape, use_bias=True, activation='sigmoid'),\n",
    "                                  keras.layers.Dense(n2, use_bias=True, activation='sigmoid'),\n",
    "                                  keras.layers.Dropout(0.3),\n",
    "                                  keras.layers.Dense(1, use_bias=True)])\n",
    "\n",
    "        model.compile(optimizer=tf.optimizers.Adam(0.01), loss=tf.losses.mse)\n",
    "\n",
    "        callbacks = [keras.callbacks.EarlyStopping(patience=30, monitor='val_loss'),\n",
    "                     keras.callbacks.ModelCheckpoint(path, monitor='val_loss', save_best_only=True, mode='min',\n",
    "                                                     save_weights_only=True, initial_value_threshold=0.3)]\n",
    "\n",
    "        kfold_x_train = X_np[train]\n",
    "        kfold_y_train = Y_np[train]\n",
    "\n",
    "        kfold_x_test = X_np[test]\n",
    "        kfold_y_test = Y_np[test]\n",
    "\n",
    "        history = model.fit(kfold_x_train, kfold_y_train, epochs=300, batch_size=100,\n",
    "                            validation_data=(kfold_x_test, kfold_y_test),\n",
    "                            use_multiprocessing=True, workers=-1,\n",
    "                            callbacks=callbacks, verbose=0)\n",
    "\n",
    "        model.load_weights(path)\n",
    "\n",
    "        train_loss += model.evaluate(kfold_x_train, kfold_y_train, verbose=0)\n",
    "        test_loss += model.evaluate(kfold_x_test, kfold_y_test, verbose=0)\n",
    "\n",
    "    print(f'n1: {n1}, n2: {n2}')\n",
    "    print(f'Loss on train: {(train_loss / n_folds):.3f}')\n",
    "    print(f'Loss on test: {(test_loss / n_folds):.3f}')"
   ]
  },
  {
   "attachments": {},
   "cell_type": "markdown",
   "metadata": {},
   "source": [
    "#### Исследование зависимости качества обучения от активационных характеристик нейронов\n"
   ]
  },
  {
   "cell_type": "code",
   "execution_count": 16,
   "metadata": {},
   "outputs": [
    {
     "name": "stdout",
     "output_type": "stream",
     "text": [
      "sigmoid\n",
      "Loss on train: 0.163\n",
      "Loss on test: 0.142\n",
      "tanh\n",
      "Loss on train: 0.340\n",
      "Loss on test: 0.336\n",
      "linear\n",
      "Loss on train: 0.329\n",
      "Loss on test: 0.334\n",
      "softsign\n",
      "Loss on train: 0.204\n",
      "Loss on test: 0.213\n",
      "softplus\n",
      "Loss on train: 0.312\n",
      "Loss on test: 0.314\n"
     ]
    }
   ],
   "source": [
    "activations = ['sigmoid', 'tanh', 'linear', 'softsign', 'softplus']\n",
    "for activ in activations:\n",
    "    path = f'4.14/model_{activ}.h5'\n",
    "    model = keras.Sequential([keras.layers.Dense(20, input_dim=input_shape, use_bias=True, activation=activ),\n",
    "                              keras.layers.Dense(20, use_bias=True, activation=activ),\n",
    "                              keras.layers.Dropout(0.3),\n",
    "                              keras.layers.Dense(1, use_bias=True)])\n",
    "\n",
    "    model.compile(optimizer=keras.optimizers.Adam(0.01), loss=tf.losses.mse)\n",
    "    callbacks = [keras.callbacks.EarlyStopping(patience=30, monitor='val_loss'),\n",
    "                 keras.callbacks.ModelCheckpoint(path, monitor='val_loss', save_best_only=True, mode='min', save_weights_only=True)]\n",
    "    \n",
    "    train_pred, test_pred, history = keras_trainer.fit(model, callbacks, path, epochs=500)\n",
    "\n",
    "    print(activ)\n",
    "    print(f'Loss on train: {tf.losses.mse(y_train, train_pred):.3f}')\n",
    "    print(f'Loss on test: {tf.losses.mse(y_test, test_pred):.3f}')"
   ]
  },
  {
   "attachments": {},
   "cell_type": "markdown",
   "metadata": {},
   "source": [
    "### 4.15. L1 и L2 регуляризация весов\n"
   ]
  },
  {
   "cell_type": "code",
   "execution_count": null,
   "metadata": {
    "notebookRunGroups": {
     "groupValue": "1"
    }
   },
   "outputs": [],
   "source": [
    "def L1_norm(x: np.array):\n",
    "    count = 1\n",
    "    for r in x.shape:\n",
    "        count *= r\n",
    "    return np.sum(np.abs(x)) / count\n",
    "\n",
    "\n",
    "def L2_norm(x: np.array):\n",
    "    count = 1\n",
    "    for r in x.shape:\n",
    "        count *= r\n",
    "    return np.sum(x * x) / count\n",
    "\n",
    "\n",
    "class NormHistory(keras.callbacks.Callback):\n",
    "    def __init__(self, norm: callable, count: int):\n",
    "        super().__init__()\n",
    "        self.weights = None\n",
    "        self.norm = norm\n",
    "        self.count = count\n",
    "\n",
    "    def on_train_begin(self, logs=None):\n",
    "        self.weights = list()\n",
    "        for i in range(self.count):\n",
    "            self.weights.append(list())\n",
    "\n",
    "    def on_epoch_begin(self, epoch, logs=None):\n",
    "        if logs is None:\n",
    "            logs = {}\n",
    "\n",
    "        for i in range(self.count):\n",
    "            self.weights[i].append(self.norm(self.model.layers[i].get_weights()[0]))\n"
   ]
  },
  {
   "cell_type": "code",
   "execution_count": 30,
   "metadata": {},
   "outputs": [],
   "source": [
    "lds = [0.005, 0.01, 0.02, 0.04]\n",
    "\n",
    "for regularizer, name, norm in zip([keras.regularizers.L1, keras.regularizers.L2], ['L1', 'L2'], [L1_norm, L2_norm]):\n",
    "    train_errors = []\n",
    "    test_errors = []\n",
    "    weights0 = []\n",
    "    weights1 = []\n",
    "    for ld in lds:\n",
    "        path = f'4.15/models/model_{name}_{ld}.h5'\n",
    "        model = keras.Sequential(\n",
    "            [keras.layers.Dense(20, input_dim=input_shape, use_bias=True, activation='sigmoid',\n",
    "                                kernel_regularizer=regularizer(ld)),\n",
    "             keras.layers.Dense(20, use_bias=True, activation='sigmoid',\n",
    "                                kernel_regularizer=regularizer(ld)),\n",
    "             keras.layers.Dropout(0.3),\n",
    "             keras.layers.Dense(1, use_bias=True)])\n",
    "\n",
    "        model.compile(optimizer=keras.optimizers.Adam(0.01), loss=tf.losses.mse)\n",
    "        norm_histoty = NormHistory(norm, 2)\n",
    "        callbacks = [keras.callbacks.EarlyStopping(patience=30, monitor='val_loss'),\n",
    "                     keras.callbacks.ModelCheckpoint(path, monitor='val_loss', save_best_only=True, mode='min', save_weights_only=True),\n",
    "                     norm_histoty]\n",
    "        history = model.fit(x_train, y_train, epochs=500, batch_size=100,\n",
    "                            validation_data=(x_validate, y_validate),\n",
    "                            use_multiprocessing=True, workers=-1,\n",
    "                            callbacks=callbacks, verbose=0)\n",
    "        model.load_weights(path)\n",
    "        train_pred = model.predict(x_train, verbose=0).reshape(-1)\n",
    "        test_pred = model.predict(x_test, verbose=0).reshape(-1)\n",
    "\n",
    "        train_errors.append(tf.losses.mse(y_train, train_pred))\n",
    "        test_errors.append(tf.losses.mse(y_test, test_pred))\n",
    "\n",
    "        weights0.append(norm(model.layers[0].get_weights()[0]))\n",
    "        weights1.append(norm(model.layers[1].get_weights()[0]))\n",
    "\n",
    "        # Норма от эпохи\n",
    "        fig = plt.figure(figsize=(10, 6))\n",
    "        plt.title(f'{name} norm (epoch), lambda={ld}')\n",
    "        plt.plot(norm_histoty.weights[0], label='$layer_0$')\n",
    "        plt.plot(norm_histoty.weights[1], label='$layer_1$')\n",
    "        plt.xlabel('lambda')\n",
    "        plt.ylabel(f'{name} norm')\n",
    "        plt.grid()\n",
    "        plt.legend()\n",
    "        fig.savefig(f'4.15/{name}_norm(epoch)_{ld}.png')\n",
    "\n",
    "    # Ошибка от лямбды\n",
    "    fig = plt.figure(figsize=(10, 6))\n",
    "    plt.title(f'{name}')\n",
    "    plt.plot(lds, train_errors, label='train mse')\n",
    "    plt.plot(lds, test_errors, label='test mse')\n",
    "    plt.xlabel('lambda')\n",
    "    plt.ylabel('mse')\n",
    "    plt.grid()\n",
    "    plt.legend()\n",
    "    fig.savefig(f'4.15/{name}_mse(lambda).png')\n",
    "\n",
    "    # Норма от лямбды\n",
    "    fig = plt.figure(figsize=(10, 6))\n",
    "    plt.title(f'{name} norm (lambda)')\n",
    "    plt.plot(lds, weights0, label='$layer_0$')\n",
    "    plt.plot(lds, weights1, label='$layer_1$')\n",
    "    plt.xlabel('lambda')\n",
    "    plt.ylabel(f'{name} norm')\n",
    "    plt.grid()\n",
    "    plt.legend()\n",
    "    fig.savefig(f'4.15/{name}_norm(lambda).png')\n",
    "\n",
    "clear_plt()"
   ]
  },
  {
   "attachments": {},
   "cell_type": "markdown",
   "metadata": {},
   "source": [
    "### 4.16. Инъекция шума\n"
   ]
  },
  {
   "attachments": {},
   "cell_type": "markdown",
   "metadata": {},
   "source": [
    "#### Зашумление входов\n"
   ]
  },
  {
   "cell_type": "code",
   "execution_count": 96,
   "metadata": {},
   "outputs": [
    {
     "name": "stdout",
     "output_type": "stream",
     "text": [
      "sigm: 0.010\n",
      "Loss on train: 0.073\n",
      "Loss on test: 0.136\n",
      "sigm: 0.050\n",
      "Loss on train: 0.078\n",
      "Loss on test: 0.124\n",
      "sigm: 0.100\n",
      "Loss on train: 0.082\n",
      "Loss on test: 0.142\n"
     ]
    }
   ],
   "source": [
    "for sigm in [0.01, 0.05, 0.1]:\n",
    "    path = f'4.16/models/model_input_{sigm}.h5'\n",
    "    bad_x_train = x_train + np.random.normal(0, sigm, (len(x_train), len(x_train.columns)))\n",
    "\n",
    "    model = keras.Sequential(\n",
    "        [keras.layers.Dense(50, input_dim=input_shape, use_bias=True, activation=tf.nn.sigmoid),\n",
    "         keras.layers.Dense(50, use_bias=True, activation=tf.nn.sigmoid),\n",
    "         keras.layers.Dropout(0.3),\n",
    "         keras.layers.Dense(1, use_bias=True)])\n",
    "    model.compile(optimizer=tf.optimizers.Adam(0.01), loss=tf.losses.mse)\n",
    "    bad_callback = WeightsAndLossHistory(x_test, y_test)\n",
    "    callbacks = [keras.callbacks.EarlyStopping(patience=30, monitor='val_loss'),\n",
    "                 keras.callbacks.ModelCheckpoint(path, monitor='val_loss', save_best_only=True, mode='min',\n",
    "                                                 save_weights_only=True, initial_value_threshold=0.5),\n",
    "                 bad_callback]\n",
    "\n",
    "    history = model.fit(bad_x_train, y_train, epochs=300, batch_size=100,\n",
    "                        validation_data=(x_validate, y_validate),\n",
    "                        use_multiprocessing=True, workers=-1,\n",
    "                        callbacks=callbacks, verbose=0)\n",
    "\n",
    "    model.load_weights(path)\n",
    "    train_pred = model.predict(x_train, verbose=0).reshape(-1)\n",
    "    test_pred = model.predict(x_test, verbose=0).reshape(-1)\n",
    "\n",
    "    print(f'sigm: {sigm:.3f}')\n",
    "    print(f'Loss on train: {tf.losses.mse(y_train, train_pred):.3f}')\n",
    "    print(f'Loss on test: {tf.losses.mse(y_test, test_pred):.3f}')\n",
    "\n",
    "    plot_losses(history, bad_callback.test_losses, f\"4.16/fit_input_sigm({sigm}).png\",\n",
    "                f\"Mse (epoch), noise in input, $\\sigma$ = {sigm}\")\n",
    "clear_plt()"
   ]
  },
  {
   "attachments": {},
   "cell_type": "markdown",
   "metadata": {},
   "source": [
    "#### Зашумление градиентов"
   ]
  },
  {
   "cell_type": "code",
   "execution_count": 97,
   "metadata": {},
   "outputs": [],
   "source": [
    "def add_gradient_noise(BaseOptimizer):\n",
    "    K = keras.backend\n",
    "\n",
    "    def _get_shape(x):\n",
    "        if hasattr(x, 'dense_shape'):\n",
    "            return x.dense_shape\n",
    "\n",
    "        return K.shape(x)\n",
    "\n",
    "    class NoisyOptimizer(BaseOptimizer):\n",
    "        def __init__(self, noise_eta=0.3, noise_gamma=0.55, **kwargs):\n",
    "            super(NoisyOptimizer, self).__init__(**kwargs)\n",
    "            with K.name_scope(self.__class__.__name__):\n",
    "                self.noise_eta = K.variable(noise_eta, name='noise_eta')\n",
    "                self.noise_gamma = K.variable(noise_gamma, name='noise_gamma')\n",
    "\n",
    "        def get_gradients(self, loss, params):\n",
    "            grads = super(NoisyOptimizer, self).get_gradients(loss, params)\n",
    "\n",
    "            # Add decayed gaussian noise\n",
    "            t = K.cast(self.iterations, K.dtype(grads[0]))\n",
    "            variance = self.noise_eta / ((1 + t) ** self.noise_gamma)\n",
    "\n",
    "            grads = [\n",
    "                grad + K.random_normal(\n",
    "                    _get_shape(grad),\n",
    "                    mean=0.0,\n",
    "                    stddev=K.sqrt(variance),\n",
    "                    dtype=K.dtype(grads[0])\n",
    "                )\n",
    "                for grad in grads\n",
    "            ]\n",
    "\n",
    "            return grads\n",
    "\n",
    "        def get_config(self):\n",
    "            config = {'noise_eta': float(K.get_value(self.noise_eta)),\n",
    "                      'noise_gamma': float(K.get_value(self.noise_gamma))}\n",
    "            base_config = super(NoisyOptimizer, self).get_config()\n",
    "            return dict(list(base_config.items()) + list(config.items()))\n",
    "\n",
    "    NoisyOptimizer.__name__ = 'Noisy{}'.format(BaseOptimizer.__name__)\n",
    "\n",
    "    return NoisyOptimizer"
   ]
  },
  {
   "cell_type": "code",
   "execution_count": 98,
   "metadata": {},
   "outputs": [
    {
     "name": "stdout",
     "output_type": "stream",
     "text": [
      "sigm: 0.010\n",
      "Loss on train: 0.075\n",
      "Loss on test: 0.148\n",
      "sigm: 0.050\n",
      "Loss on train: 0.065\n",
      "Loss on test: 0.123\n",
      "sigm: 0.100\n",
      "Loss on train: 0.075\n",
      "Loss on test: 0.128\n"
     ]
    }
   ],
   "source": [
    "for sigm in [0.01, 0.05, 0.1]:\n",
    "    path = f'4.16/models/model_grad_{sigm}.h5'\n",
    "    model = keras.Sequential([keras.layers.Dense(50, input_dim=input_shape, use_bias=True, activation='sigmoid'),\n",
    "                              keras.layers.Dense(50, use_bias=True, activation='sigmoid'),\n",
    "                              keras.layers.Dropout(0.3),\n",
    "                              keras.layers.Dense(1, use_bias=True)])\n",
    "    NoisyAdam = add_gradient_noise(tf.optimizers.Adam)\n",
    "    model.compile(optimizer=NoisyAdam(learning_rate=0.01, noise_eta=sigm ** 2, noise_gamma=0.01), loss=tf.losses.mse)\n",
    "    bad_callback = WeightsAndLossHistory(x_test, y_test)\n",
    "    callbacks = [keras.callbacks.EarlyStopping(patience=30, monitor='val_loss'),\n",
    "                 keras.callbacks.ModelCheckpoint(path, monitor='val_loss', save_best_only=True, mode='min',\n",
    "                                                 save_weights_only=True, initial_value_threshold=0.5),\n",
    "                 bad_callback]\n",
    "\n",
    "    train_pred, test_pred, history = keras_trainer.fit(model, callbacks, path, epochs=500)\n",
    "\n",
    "    print(f'sigm: {sigm:.3f}')\n",
    "    print(f'Loss on train: {tf.losses.mse(y_train, train_pred):.3f}')\n",
    "    print(f'Loss on test: {tf.losses.mse(y_test, test_pred):.3f}')\n",
    "\n",
    "    plot_losses(history, bad_callback.test_losses, f\"4.16/fit_grad_sigm({sigm}).png\",\n",
    "                f\"Mse (epoch), noise in grads, $\\sigma$ = {sigm}\")\n",
    "clear_plt()"
   ]
  },
  {
   "attachments": {},
   "cell_type": "markdown",
   "metadata": {},
   "source": [
    "# 5. Исследование обученной нейросетевой модели"
   ]
  },
  {
   "cell_type": "code",
   "execution_count": 50,
   "metadata": {},
   "outputs": [
    {
     "name": "stdout",
     "output_type": "stream",
     "text": [
      "Adam is the best\n",
      "Loss on train: 0.071\n",
      "Loss on test: 0.113\n"
     ]
    }
   ],
   "source": [
    "path = '5/best_of_the_best.h5'\n",
    "need_train = False\n",
    "\n",
    "big_x_train, big_x_test, big_y_train, big_y_test = train_test_split(X, Y, test_size=0.3, shuffle=True)\n",
    "\n",
    "model = keras.Sequential([keras.layers.Dense(50, input_dim=input_shape, use_bias=True, activation='sigmoid'),\n",
    "                          keras.layers.Dense(50, use_bias=True, activation='sigmoid'),\n",
    "                          keras.layers.Dropout(0.3),\n",
    "                          keras.layers.Dense(1, use_bias=True)])\n",
    "model.compile(optimizer=tf.optimizers.Adam(0.01), loss=tf.losses.mse)\n",
    "\n",
    "callbacks = [keras.callbacks.EarlyStopping(patience=30, monitor='val_loss'),\n",
    "             keras.callbacks.ModelCheckpoint(path, monitor='val_loss', save_best_only=True, mode='min',\n",
    "                                             initial_value_threshold=0.2)]\n",
    "if not os.path.exists(path) or need_train:\n",
    "    history = model.fit(big_x_train, big_y_train, epochs=1000, batch_size=100,\n",
    "                        validation_data=(big_x_test, big_y_test),\n",
    "                        use_multiprocessing=True, workers=-1,\n",
    "                        callbacks=callbacks, verbose=0)\n",
    "\n",
    "model.load_weights(path)\n",
    "\n",
    "train_pred = model.predict(big_x_train, verbose=0).reshape(-1)\n",
    "test_pred = model.predict(big_x_test, verbose=0).reshape(-1)\n",
    "\n",
    "print('Adam is the best')\n",
    "print(f'Loss on train: {tf.losses.mse(big_y_train, train_pred):.3f}')\n",
    "print(f'Loss on test: {tf.losses.mse(big_y_test, test_pred):.3f}')"
   ]
  },
  {
   "attachments": {},
   "cell_type": "markdown",
   "metadata": {},
   "source": [
    "### 5.1 Исследоване качества обученной модели "
   ]
  },
  {
   "cell_type": "code",
   "execution_count": 57,
   "metadata": {},
   "outputs": [
    {
     "data": {
      "image/png": "[encoded data removed]",
      "text/plain": [
       "<Figure size 1200x600 with 1 Axes>"
      ]
     },
     "metadata": {},
     "output_type": "display_data"
    }
   ],
   "source": [
    "plt.figure(figsize=(12, 6))\n",
    "plt.scatter(train_pred, big_y_train, label='train')\n",
    "plt.scatter(test_pred, big_y_test, label='test')\n",
    "values = np.linspace(Y_np.min(), Y_np.max())\n",
    "plt.plot(values, values, color='purple')\n",
    "plt.grid()\n",
    "plt.legend()\n",
    "plt.show()"
   ]
  },
  {
   "cell_type": "code",
   "execution_count": 66,
   "metadata": {},
   "outputs": [
    {
     "name": "stdout",
     "output_type": "stream",
     "text": [
      "y = y_pred * 0.9968313574790955\n"
     ]
    },
    {
     "data": {
      "image/png": "[encoded data removed]",
      "text/plain": [
       "<Figure size 1200x600 with 1 Axes>"
      ]
     },
     "metadata": {},
     "output_type": "display_data"
    }
   ],
   "source": [
    "from sklearn.linear_model import LinearRegression\n",
    "\n",
    "lin_regr = LinearRegression()\n",
    "\n",
    "lin_regr.fit(train_pred.reshape(-1, 1), big_y_train.to_numpy().reshape(-1, 1))\n",
    "lin_preds = lin_regr.predict(values.reshape(-1, 1)).reshape(-1)\n",
    "\n",
    "plt.figure(figsize=(12, 6))\n",
    "plt.scatter(train_pred, big_y_train, label='train')\n",
    "print(f'y = y_pred * {lin_regr.coef_[0][0]}')\n",
    "plt.plot(values, lin_preds, color='purple', label='linear regression')\n",
    "plt.title('Train')\n",
    "plt.grid()\n",
    "plt.legend()\n",
    "plt.show()"
   ]
  },
  {
   "cell_type": "code",
   "execution_count": 67,
   "metadata": {},
   "outputs": [
    {
     "name": "stdout",
     "output_type": "stream",
     "text": [
      "y = y_pred * 1.0047576427459717\n"
     ]
    },
    {
     "data": {
      "image/png": "[encoded data removed]",
      "text/plain": [
       "<Figure size 1200x600 with 1 Axes>"
      ]
     },
     "metadata": {},
     "output_type": "display_data"
    }
   ],
   "source": [
    "lin_regr = LinearRegression()\n",
    "\n",
    "lin_regr.fit(test_pred.reshape(-1, 1), big_y_test.to_numpy().reshape(-1, 1))\n",
    "lin_preds = lin_regr.predict(values.reshape(-1, 1)).reshape(-1)\n",
    "\n",
    "plt.figure(figsize=(12, 6))\n",
    "plt.scatter(test_pred, big_y_test, label='train')\n",
    "print(f'y = y_pred * {lin_regr.coef_[0][0]}')\n",
    "plt.plot(values, lin_preds, color='purple', label='linear regression')\n",
    "plt.title('Train')\n",
    "plt.grid()\n",
    "plt.legend()\n",
    "plt.show()"
   ]
  },
  {
   "cell_type": "code",
   "execution_count": 55,
   "metadata": {},
   "outputs": [
    {
     "name": "stdout",
     "output_type": "stream",
     "text": [
      "Train R^2 = 0.929\n",
      "Test R^2 = 0.883\n"
     ]
    }
   ],
   "source": [
    "from sklearn.metrics import r2_score\n",
    "\n",
    "print(f'Train R^2 = {r2_score(big_y_train, train_pred):.3f}')\n",
    "print(f'Test R^2 = {r2_score(big_y_test, test_pred):.3f}')"
   ]
  },
  {
   "cell_type": "code",
   "execution_count": 77,
   "metadata": {},
   "outputs": [
    {
     "data": {
      "image/png": "[encoded data removed]",
      "text/plain": [
       "<Figure size 1200x600 with 2 Axes>"
      ]
     },
     "metadata": {},
     "output_type": "display_data"
    }
   ],
   "source": [
    "fig, ax = plt.subplots(1, 2)\n",
    "fig.set_figheight(6)\n",
    "fig.set_figwidth(12)\n",
    "sns.histplot(big_y_train - train_pred, kde=True, ax=ax[0])\n",
    "sns.histplot(big_y_test - test_pred, kde=True, ax=ax[1])\n",
    "ax[0].set_title('Distribution of train errors')\n",
    "ax[1].set_title('Distribution of test errors')\n",
    "plt.show()"
   ]
  },
  {
   "attachments": {},
   "cell_type": "markdown",
   "metadata": {},
   "source": [
    "### 5.2 Оценка важности признаков"
   ]
  },
  {
   "cell_type": "code",
   "execution_count": 124,
   "metadata": {},
   "outputs": [
    {
     "name": "stdout",
     "output_type": "stream",
     "text": [
      "(7, 50)\n",
      "[('cement', -13.703804969787598), ('slag', -8.008419036865234), ('water', 9.771476745605469), ('plastic', -12.991092681884766), ('coarse', -2.9240660667419434), ('fine', 14.569056510925293), ('age', 19.057456970214844)]\n"
     ]
    }
   ],
   "source": [
    "weights = np.zeros((len(big_x_train.columns), 1))\n",
    "names = np.array(big_x_train.columns)\n",
    "\n",
    "layer_w = model.layers[0].get_weights()[0]\n",
    "print(layer_w.shape)\n",
    "for i in range(len(names)):\n",
    "    weights[i][0] += np.sum(layer_w[i])\n",
    "print(list(zip(names, weights.reshape(-1))))"
   ]
  },
  {
   "cell_type": "code",
   "execution_count": 120,
   "metadata": {},
   "outputs": [
    {
     "data": {
      "image/png": "[encoded data removed]",
      "text/plain": [
       "<Figure size 600x600 with 2 Axes>"
      ]
     },
     "metadata": {},
     "output_type": "display_data"
    }
   ],
   "source": [
    "fig, ax = plt.subplots()\n",
    "fig.set_figwidth(6)\n",
    "fig.set_figheight(6)\n",
    "sns.heatmap(weights, yticklabels=names, cmap='coolwarm', ax=ax, annot=True)\n",
    "plt.show()"
   ]
  },
  {
   "attachments": {},
   "cell_type": "markdown",
   "metadata": {},
   "source": [
    "### 5.3 Выводы"
   ]
  },
  {
   "attachments": {},
   "cell_type": "markdown",
   "metadata": {},
   "source": [
    "Оптимизаторы эти извращённые мне не нужны, Адам лучше всех"
   ]
  }
 ],
 "metadata": {
  "kernelspec": {
   "display_name": "Python 3",
   "language": "python",
   "name": "python3"
  },
  "language_info": {
   "codemirror_mode": {
    "name": "ipython",
    "version": 3
   },
   "file_extension": ".py",
   "mimetype": "text/x-python",
   "name": "python",
   "nbconvert_exporter": "python",
   "pygments_lexer": "ipython3",
   "version": "3.11.3"
  }
 },
 "nbformat": 4,
 "nbformat_minor": 0
}
